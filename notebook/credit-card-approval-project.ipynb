{
 "cells": [
  {
   "cell_type": "markdown",
   "id": "f4bf13c0",
   "metadata": {
    "papermill": {
     "duration": 0.018703,
     "end_time": "2024-03-18T12:47:15.232232",
     "exception": false,
     "start_time": "2024-03-18T12:47:15.213529",
     "status": "completed"
    },
    "tags": []
   },
   "source": [
    "Commercial banks get a lot of requests for credit cards. But, they often reject many of them because of reasons like having too much debt,low income, or too many inquiries on a person's credit history. Analyzing these requests manually takes a lot of time and can lead to mistakes.Thankfully, we can use machine learning to automate this process, just like most banks do. In this guide, we'll make a credit card approval predictor using machine learning techniques\n",
    "\n",
    "**Section 1.** Why is your proposal important in today’s world? How predicting a good client is worthy for a bank?\n",
    "\n",
    "Predicting good client is crucial for banks to minimize creditr risk and make informed lending decisions in today's world where DATA SCIENCE & ML are becoming integral to financial institution accurate credit card approvalpredictions can significantly impact a bank's profitability and customer satisfaction\n",
    "\n",
    "**2. How is it going to impact the banking sector?**\n",
    "\n",
    "Accurate credit card approval predictions can lead to reduced default rates, lower financial losses, and improved customer experiences. This can positively impact a bank's profitability, reputation, and competitiveness in the market.\n",
    "\n",
    "**3. If any, what is the gap in the knowledge or how your proposed method canbe helpful if required in the future for any bank in India?**\n",
    "\n",
    "The proposed method can address the gap in credit assessment by incorporating advanced data analysis and machine learning techniques. Its adaptability makes it valuable for banks in India and beyond, as it can continuously evolve to consider new data sources and enhance creditworthiness assessments.\n",
    "\n",
    "**Section 2: Initial Hypotheses**\n",
    "\n",
    "In the Data Analysis (DA) track, we will aim to identify patterns in the data and important features that may impact a Machine Learning (ML) model. Our initial hypotheses are:\n",
    "\n",
    "**Hypothesis 1:** Income type, annual income, and education level are crucial factors in predicting credit card approval.\n",
    "\n",
    "**Hypothesis 2:** Car ownership, property ownership, and family size may influence credit card approval decisions.\n",
    "\n",
    "**Hypothesis 3:** The length of employment and the presence of a mobile phone or email address could be relevant features.\n",
    "\n",
    "**Hypothesis 4:** Gender, marital status, and housing type may also play a role in credit card approval.\n",
    "\n",
    "**Section 3: Data Analysis Approach**\n",
    "\n",
    "Our data analysis approach will involve: Exploratory Data Analysis (EDA) to identify important patterns, correlations, and outliers in the data. Feature engineering techniques to create relevant features that can improve model performance. Utilizing visualization tools to justify our findings and provide insights into the relationships within the data.\n",
    "\n",
    "**Feature Engineering**\n",
    "\n",
    "This Project required some feature Engineering techniques like onehot encoding,label encoding to transform the categorical variable into numerical variable and feature engineering like standard scaler to normalize the data for machine learning\n",
    "\n",
    "**justification of data analysis approach**\n",
    "\n",
    "Here we used visulisation tools like boxplot to determine the outlier and histogram to show the distribution of data. Replace the null value with median and mode to make the data more suitable for machine learning\n",
    "\n",
    "**Section 4: Machine Learning Approach**\n",
    "\n",
    "We will use various machine learning models, including but not limited to logistic regression, decision trees, random forests,SVM and XGBoost, to predict credit card approval based on customer information.\n",
    "\n",
    "**Justification for Model Selection:**\n",
    "\n",
    "Logistic Regression: A simple yet interpretable model to establish a baseline. Decision Trees and Random Forests: To capture non-linear relationships and feature interactions. XGBoost: To improve predictive accuracy by combining multiple weak models\n",
    "\n",
    "**Steps to Improve Model Accuracy:**\n",
    "\n",
    "Feature selection to identify the most relevant variables. Hyperparameter tuning for model optimization. Cross-validation to assess model performance. Evaluation metrics, such as accuracy, precision, recall, and F1-score, to justify the chosen model.\n",
    "\n",
    "**Comparison of Models:**\n",
    "\n",
    "We compared the performance of at least four machine learning models using classification_report, accuracy_score, confusion_matrix and cross valiation to determine the most suitable model for credit card approval prediction. XGBoost Model is giving highest accuracy of 90 %, hence we will use XGBoost Model for predicion among the four model.\n",
    "\n",
    "########\n",
    "\n",
    "A number of applications for credit cards are received by commercial banks. For various factors, many of them are refused, such as high debt balances, low income levels, or too many questions into an individual's credit report, for instance. It is mundane, error-prone, and time-consuming and time is money! to manually analyze these applications. Luckily,with the power of machine learning, this activity can be automated and almost every commercial bank does so nowadays.In this notebook, we will create an automated credit card approval predictor using machine learning techniques, just like the real banks do.\n",
    "\n",
    "**This notebook follows the some instructions**\n",
    "\n",
    "At first , we load and view the dataset.\n",
    "\n",
    "Here, we could see some numerical and categorical values.This valus are some missing , attributes are not relevant.\n",
    "\n",
    "We will have to preprocesses the data to ensure before implementing machine learning model and so that we can get better performance from my model.\n",
    "\n",
    "We will make visualize on the data cause visualize data can say a thousands of word in insights.\n",
    "\n",
    "We will evaluate performance the model.\n",
    "\n",
    "Then we will do hyperparameter tuning and optimization so that we can get better performance.\n",
    "\n",
    "We will also do comparison some machine learning model which model will give a better result."
   ]
  },
  {
   "cell_type": "code",
   "execution_count": 1,
   "id": "26dbdcfe",
   "metadata": {
    "execution": {
     "iopub.execute_input": "2024-03-18T12:47:15.272124Z",
     "iopub.status.busy": "2024-03-18T12:47:15.271700Z",
     "iopub.status.idle": "2024-03-18T12:47:17.512429Z",
     "shell.execute_reply": "2024-03-18T12:47:17.511451Z"
    },
    "papermill": {
     "duration": 2.263415,
     "end_time": "2024-03-18T12:47:17.515387",
     "exception": false,
     "start_time": "2024-03-18T12:47:15.251972",
     "status": "completed"
    },
    "tags": []
   },
   "outputs": [],
   "source": [
    "import pandas as pd\n",
    "import numpy as np\n",
    "import matplotlib.pyplot as plt\n",
    "import seaborn as sns"
   ]
  },
  {
   "cell_type": "code",
   "execution_count": 2,
   "id": "dfe29f2c",
   "metadata": {
    "execution": {
     "iopub.execute_input": "2024-03-18T12:47:17.554462Z",
     "iopub.status.busy": "2024-03-18T12:47:17.553951Z",
     "iopub.status.idle": "2024-03-18T12:47:17.593380Z",
     "shell.execute_reply": "2024-03-18T12:47:17.592498Z"
    },
    "papermill": {
     "duration": 0.061408,
     "end_time": "2024-03-18T12:47:17.595749",
     "exception": false,
     "start_time": "2024-03-18T12:47:17.534341",
     "status": "completed"
    },
    "tags": []
   },
   "outputs": [],
   "source": [
    "df1 = pd.read_csv(\"/kaggle/input/credit-card-approval/Credit_card.csv\")\n",
    "df2 = pd.read_csv(\"/kaggle/input/credit-card-approval/Credit_card_label.csv\")"
   ]
  },
  {
   "cell_type": "code",
   "execution_count": 3,
   "id": "6a478035",
   "metadata": {
    "execution": {
     "iopub.execute_input": "2024-03-18T12:47:17.634836Z",
     "iopub.status.busy": "2024-03-18T12:47:17.633842Z",
     "iopub.status.idle": "2024-03-18T12:47:17.645825Z",
     "shell.execute_reply": "2024-03-18T12:47:17.644923Z"
    },
    "papermill": {
     "duration": 0.033943,
     "end_time": "2024-03-18T12:47:17.648117",
     "exception": false,
     "start_time": "2024-03-18T12:47:17.614174",
     "status": "completed"
    },
    "tags": []
   },
   "outputs": [],
   "source": [
    "df1 = df1.drop_duplicates(subset=[\"Ind_ID\"], keep=\"last\")"
   ]
  },
  {
   "cell_type": "code",
   "execution_count": 4,
   "id": "ca42042d",
   "metadata": {
    "execution": {
     "iopub.execute_input": "2024-03-18T12:47:17.687281Z",
     "iopub.status.busy": "2024-03-18T12:47:17.686566Z",
     "iopub.status.idle": "2024-03-18T12:47:17.723570Z",
     "shell.execute_reply": "2024-03-18T12:47:17.722551Z"
    },
    "papermill": {
     "duration": 0.059144,
     "end_time": "2024-03-18T12:47:17.725832",
     "exception": false,
     "start_time": "2024-03-18T12:47:17.666688",
     "status": "completed"
    },
    "tags": []
   },
   "outputs": [
    {
     "data": {
      "text/html": [
       "<div>\n",
       "<style scoped>\n",
       "    .dataframe tbody tr th:only-of-type {\n",
       "        vertical-align: middle;\n",
       "    }\n",
       "\n",
       "    .dataframe tbody tr th {\n",
       "        vertical-align: top;\n",
       "    }\n",
       "\n",
       "    .dataframe thead th {\n",
       "        text-align: right;\n",
       "    }\n",
       "</style>\n",
       "<table border=\"1\" class=\"dataframe\">\n",
       "  <thead>\n",
       "    <tr style=\"text-align: right;\">\n",
       "      <th></th>\n",
       "      <th>Ind_ID</th>\n",
       "      <th>GENDER</th>\n",
       "      <th>Car_Owner</th>\n",
       "      <th>Propert_Owner</th>\n",
       "      <th>CHILDREN</th>\n",
       "      <th>Annual_income</th>\n",
       "      <th>Type_Income</th>\n",
       "      <th>EDUCATION</th>\n",
       "      <th>Marital_status</th>\n",
       "      <th>Housing_type</th>\n",
       "      <th>Birthday_count</th>\n",
       "      <th>Employed_days</th>\n",
       "      <th>Mobile_phone</th>\n",
       "      <th>Work_Phone</th>\n",
       "      <th>Phone</th>\n",
       "      <th>EMAIL_ID</th>\n",
       "      <th>Type_Occupation</th>\n",
       "      <th>Family_Members</th>\n",
       "      <th>label</th>\n",
       "    </tr>\n",
       "  </thead>\n",
       "  <tbody>\n",
       "    <tr>\n",
       "      <th>0</th>\n",
       "      <td>5008827</td>\n",
       "      <td>M</td>\n",
       "      <td>Y</td>\n",
       "      <td>Y</td>\n",
       "      <td>0</td>\n",
       "      <td>180000.0</td>\n",
       "      <td>Pensioner</td>\n",
       "      <td>Higher education</td>\n",
       "      <td>Married</td>\n",
       "      <td>House / apartment</td>\n",
       "      <td>-18772.0</td>\n",
       "      <td>365243</td>\n",
       "      <td>1</td>\n",
       "      <td>0</td>\n",
       "      <td>0</td>\n",
       "      <td>0</td>\n",
       "      <td>NaN</td>\n",
       "      <td>2</td>\n",
       "      <td>1</td>\n",
       "    </tr>\n",
       "    <tr>\n",
       "      <th>1</th>\n",
       "      <td>5009744</td>\n",
       "      <td>F</td>\n",
       "      <td>Y</td>\n",
       "      <td>N</td>\n",
       "      <td>0</td>\n",
       "      <td>315000.0</td>\n",
       "      <td>Commercial associate</td>\n",
       "      <td>Higher education</td>\n",
       "      <td>Married</td>\n",
       "      <td>House / apartment</td>\n",
       "      <td>-13557.0</td>\n",
       "      <td>-586</td>\n",
       "      <td>1</td>\n",
       "      <td>1</td>\n",
       "      <td>1</td>\n",
       "      <td>0</td>\n",
       "      <td>NaN</td>\n",
       "      <td>2</td>\n",
       "      <td>1</td>\n",
       "    </tr>\n",
       "    <tr>\n",
       "      <th>2</th>\n",
       "      <td>5009746</td>\n",
       "      <td>F</td>\n",
       "      <td>Y</td>\n",
       "      <td>N</td>\n",
       "      <td>0</td>\n",
       "      <td>315000.0</td>\n",
       "      <td>Commercial associate</td>\n",
       "      <td>Higher education</td>\n",
       "      <td>Married</td>\n",
       "      <td>House / apartment</td>\n",
       "      <td>NaN</td>\n",
       "      <td>-586</td>\n",
       "      <td>1</td>\n",
       "      <td>1</td>\n",
       "      <td>1</td>\n",
       "      <td>0</td>\n",
       "      <td>NaN</td>\n",
       "      <td>2</td>\n",
       "      <td>1</td>\n",
       "    </tr>\n",
       "    <tr>\n",
       "      <th>3</th>\n",
       "      <td>5009749</td>\n",
       "      <td>F</td>\n",
       "      <td>Y</td>\n",
       "      <td>N</td>\n",
       "      <td>0</td>\n",
       "      <td>NaN</td>\n",
       "      <td>Commercial associate</td>\n",
       "      <td>Higher education</td>\n",
       "      <td>Married</td>\n",
       "      <td>House / apartment</td>\n",
       "      <td>-13557.0</td>\n",
       "      <td>-586</td>\n",
       "      <td>1</td>\n",
       "      <td>1</td>\n",
       "      <td>1</td>\n",
       "      <td>0</td>\n",
       "      <td>NaN</td>\n",
       "      <td>2</td>\n",
       "      <td>1</td>\n",
       "    </tr>\n",
       "    <tr>\n",
       "      <th>4</th>\n",
       "      <td>5009752</td>\n",
       "      <td>F</td>\n",
       "      <td>Y</td>\n",
       "      <td>N</td>\n",
       "      <td>0</td>\n",
       "      <td>315000.0</td>\n",
       "      <td>Commercial associate</td>\n",
       "      <td>Higher education</td>\n",
       "      <td>Married</td>\n",
       "      <td>House / apartment</td>\n",
       "      <td>-13557.0</td>\n",
       "      <td>-586</td>\n",
       "      <td>1</td>\n",
       "      <td>1</td>\n",
       "      <td>1</td>\n",
       "      <td>0</td>\n",
       "      <td>NaN</td>\n",
       "      <td>2</td>\n",
       "      <td>1</td>\n",
       "    </tr>\n",
       "  </tbody>\n",
       "</table>\n",
       "</div>"
      ],
      "text/plain": [
       "    Ind_ID GENDER Car_Owner Propert_Owner  CHILDREN  Annual_income  \\\n",
       "0  5008827      M         Y             Y         0       180000.0   \n",
       "1  5009744      F         Y             N         0       315000.0   \n",
       "2  5009746      F         Y             N         0       315000.0   \n",
       "3  5009749      F         Y             N         0            NaN   \n",
       "4  5009752      F         Y             N         0       315000.0   \n",
       "\n",
       "            Type_Income         EDUCATION Marital_status       Housing_type  \\\n",
       "0             Pensioner  Higher education        Married  House / apartment   \n",
       "1  Commercial associate  Higher education        Married  House / apartment   \n",
       "2  Commercial associate  Higher education        Married  House / apartment   \n",
       "3  Commercial associate  Higher education        Married  House / apartment   \n",
       "4  Commercial associate  Higher education        Married  House / apartment   \n",
       "\n",
       "   Birthday_count  Employed_days  Mobile_phone  Work_Phone  Phone  EMAIL_ID  \\\n",
       "0        -18772.0         365243             1           0      0         0   \n",
       "1        -13557.0           -586             1           1      1         0   \n",
       "2             NaN           -586             1           1      1         0   \n",
       "3        -13557.0           -586             1           1      1         0   \n",
       "4        -13557.0           -586             1           1      1         0   \n",
       "\n",
       "  Type_Occupation  Family_Members  label  \n",
       "0             NaN               2      1  \n",
       "1             NaN               2      1  \n",
       "2             NaN               2      1  \n",
       "3             NaN               2      1  \n",
       "4             NaN               2      1  "
      ]
     },
     "execution_count": 4,
     "metadata": {},
     "output_type": "execute_result"
    }
   ],
   "source": [
    "df = pd.merge(df1,df2,on='Ind_ID',how='inner')\n",
    "df.head()"
   ]
  },
  {
   "cell_type": "code",
   "execution_count": 5,
   "id": "10d27021",
   "metadata": {
    "execution": {
     "iopub.execute_input": "2024-03-18T12:47:17.765555Z",
     "iopub.status.busy": "2024-03-18T12:47:17.765186Z",
     "iopub.status.idle": "2024-03-18T12:47:17.771744Z",
     "shell.execute_reply": "2024-03-18T12:47:17.770647Z"
    },
    "papermill": {
     "duration": 0.028736,
     "end_time": "2024-03-18T12:47:17.773957",
     "exception": false,
     "start_time": "2024-03-18T12:47:17.745221",
     "status": "completed"
    },
    "tags": []
   },
   "outputs": [
    {
     "data": {
      "text/plain": [
       "(1548, 19)"
      ]
     },
     "execution_count": 5,
     "metadata": {},
     "output_type": "execute_result"
    }
   ],
   "source": [
    "df.shape"
   ]
  },
  {
   "cell_type": "code",
   "execution_count": 6,
   "id": "834b616f",
   "metadata": {
    "execution": {
     "iopub.execute_input": "2024-03-18T12:47:17.814298Z",
     "iopub.status.busy": "2024-03-18T12:47:17.813664Z",
     "iopub.status.idle": "2024-03-18T12:47:17.831957Z",
     "shell.execute_reply": "2024-03-18T12:47:17.830851Z"
    },
    "papermill": {
     "duration": 0.041034,
     "end_time": "2024-03-18T12:47:17.834161",
     "exception": false,
     "start_time": "2024-03-18T12:47:17.793127",
     "status": "completed"
    },
    "tags": []
   },
   "outputs": [
    {
     "name": "stdout",
     "output_type": "stream",
     "text": [
      "<class 'pandas.core.frame.DataFrame'>\n",
      "RangeIndex: 1548 entries, 0 to 1547\n",
      "Data columns (total 19 columns):\n",
      " #   Column           Non-Null Count  Dtype  \n",
      "---  ------           --------------  -----  \n",
      " 0   Ind_ID           1548 non-null   int64  \n",
      " 1   GENDER           1541 non-null   object \n",
      " 2   Car_Owner        1548 non-null   object \n",
      " 3   Propert_Owner    1548 non-null   object \n",
      " 4   CHILDREN         1548 non-null   int64  \n",
      " 5   Annual_income    1525 non-null   float64\n",
      " 6   Type_Income      1548 non-null   object \n",
      " 7   EDUCATION        1548 non-null   object \n",
      " 8   Marital_status   1548 non-null   object \n",
      " 9   Housing_type     1548 non-null   object \n",
      " 10  Birthday_count   1526 non-null   float64\n",
      " 11  Employed_days    1548 non-null   int64  \n",
      " 12  Mobile_phone     1548 non-null   int64  \n",
      " 13  Work_Phone       1548 non-null   int64  \n",
      " 14  Phone            1548 non-null   int64  \n",
      " 15  EMAIL_ID         1548 non-null   int64  \n",
      " 16  Type_Occupation  1060 non-null   object \n",
      " 17  Family_Members   1548 non-null   int64  \n",
      " 18  label            1548 non-null   int64  \n",
      "dtypes: float64(2), int64(9), object(8)\n",
      "memory usage: 229.9+ KB\n"
     ]
    }
   ],
   "source": [
    "df.info()"
   ]
  },
  {
   "cell_type": "code",
   "execution_count": 7,
   "id": "12e60845",
   "metadata": {
    "execution": {
     "iopub.execute_input": "2024-03-18T12:47:17.875131Z",
     "iopub.status.busy": "2024-03-18T12:47:17.874081Z",
     "iopub.status.idle": "2024-03-18T12:47:17.913728Z",
     "shell.execute_reply": "2024-03-18T12:47:17.912493Z"
    },
    "papermill": {
     "duration": 0.062652,
     "end_time": "2024-03-18T12:47:17.916013",
     "exception": false,
     "start_time": "2024-03-18T12:47:17.853361",
     "status": "completed"
    },
    "tags": []
   },
   "outputs": [
    {
     "data": {
      "text/html": [
       "<div>\n",
       "<style scoped>\n",
       "    .dataframe tbody tr th:only-of-type {\n",
       "        vertical-align: middle;\n",
       "    }\n",
       "\n",
       "    .dataframe tbody tr th {\n",
       "        vertical-align: top;\n",
       "    }\n",
       "\n",
       "    .dataframe thead th {\n",
       "        text-align: right;\n",
       "    }\n",
       "</style>\n",
       "<table border=\"1\" class=\"dataframe\">\n",
       "  <thead>\n",
       "    <tr style=\"text-align: right;\">\n",
       "      <th></th>\n",
       "      <th>Ind_ID</th>\n",
       "      <th>CHILDREN</th>\n",
       "      <th>Annual_income</th>\n",
       "      <th>Birthday_count</th>\n",
       "      <th>Employed_days</th>\n",
       "      <th>Mobile_phone</th>\n",
       "      <th>Work_Phone</th>\n",
       "      <th>Phone</th>\n",
       "      <th>EMAIL_ID</th>\n",
       "      <th>Family_Members</th>\n",
       "      <th>label</th>\n",
       "    </tr>\n",
       "  </thead>\n",
       "  <tbody>\n",
       "    <tr>\n",
       "      <th>count</th>\n",
       "      <td>1.548000e+03</td>\n",
       "      <td>1548.000000</td>\n",
       "      <td>1.525000e+03</td>\n",
       "      <td>1526.000000</td>\n",
       "      <td>1548.000000</td>\n",
       "      <td>1548.0</td>\n",
       "      <td>1548.000000</td>\n",
       "      <td>1548.000000</td>\n",
       "      <td>1548.000000</td>\n",
       "      <td>1548.000000</td>\n",
       "      <td>1548.000000</td>\n",
       "    </tr>\n",
       "    <tr>\n",
       "      <th>mean</th>\n",
       "      <td>5.078920e+06</td>\n",
       "      <td>0.412791</td>\n",
       "      <td>1.913993e+05</td>\n",
       "      <td>-16040.342071</td>\n",
       "      <td>59364.689922</td>\n",
       "      <td>1.0</td>\n",
       "      <td>0.208010</td>\n",
       "      <td>0.309432</td>\n",
       "      <td>0.092377</td>\n",
       "      <td>2.161499</td>\n",
       "      <td>0.113049</td>\n",
       "    </tr>\n",
       "    <tr>\n",
       "      <th>std</th>\n",
       "      <td>4.171759e+04</td>\n",
       "      <td>0.776691</td>\n",
       "      <td>1.132530e+05</td>\n",
       "      <td>4229.503202</td>\n",
       "      <td>137808.062701</td>\n",
       "      <td>0.0</td>\n",
       "      <td>0.406015</td>\n",
       "      <td>0.462409</td>\n",
       "      <td>0.289651</td>\n",
       "      <td>0.947772</td>\n",
       "      <td>0.316755</td>\n",
       "    </tr>\n",
       "    <tr>\n",
       "      <th>min</th>\n",
       "      <td>5.008827e+06</td>\n",
       "      <td>0.000000</td>\n",
       "      <td>3.375000e+04</td>\n",
       "      <td>-24946.000000</td>\n",
       "      <td>-14887.000000</td>\n",
       "      <td>1.0</td>\n",
       "      <td>0.000000</td>\n",
       "      <td>0.000000</td>\n",
       "      <td>0.000000</td>\n",
       "      <td>1.000000</td>\n",
       "      <td>0.000000</td>\n",
       "    </tr>\n",
       "    <tr>\n",
       "      <th>25%</th>\n",
       "      <td>5.045070e+06</td>\n",
       "      <td>0.000000</td>\n",
       "      <td>1.215000e+05</td>\n",
       "      <td>-19553.000000</td>\n",
       "      <td>-3174.500000</td>\n",
       "      <td>1.0</td>\n",
       "      <td>0.000000</td>\n",
       "      <td>0.000000</td>\n",
       "      <td>0.000000</td>\n",
       "      <td>2.000000</td>\n",
       "      <td>0.000000</td>\n",
       "    </tr>\n",
       "    <tr>\n",
       "      <th>50%</th>\n",
       "      <td>5.078842e+06</td>\n",
       "      <td>0.000000</td>\n",
       "      <td>1.665000e+05</td>\n",
       "      <td>-15661.500000</td>\n",
       "      <td>-1565.000000</td>\n",
       "      <td>1.0</td>\n",
       "      <td>0.000000</td>\n",
       "      <td>0.000000</td>\n",
       "      <td>0.000000</td>\n",
       "      <td>2.000000</td>\n",
       "      <td>0.000000</td>\n",
       "    </tr>\n",
       "    <tr>\n",
       "      <th>75%</th>\n",
       "      <td>5.115673e+06</td>\n",
       "      <td>1.000000</td>\n",
       "      <td>2.250000e+05</td>\n",
       "      <td>-12417.000000</td>\n",
       "      <td>-431.750000</td>\n",
       "      <td>1.0</td>\n",
       "      <td>0.000000</td>\n",
       "      <td>1.000000</td>\n",
       "      <td>0.000000</td>\n",
       "      <td>3.000000</td>\n",
       "      <td>0.000000</td>\n",
       "    </tr>\n",
       "    <tr>\n",
       "      <th>max</th>\n",
       "      <td>5.150412e+06</td>\n",
       "      <td>14.000000</td>\n",
       "      <td>1.575000e+06</td>\n",
       "      <td>-7705.000000</td>\n",
       "      <td>365243.000000</td>\n",
       "      <td>1.0</td>\n",
       "      <td>1.000000</td>\n",
       "      <td>1.000000</td>\n",
       "      <td>1.000000</td>\n",
       "      <td>15.000000</td>\n",
       "      <td>1.000000</td>\n",
       "    </tr>\n",
       "  </tbody>\n",
       "</table>\n",
       "</div>"
      ],
      "text/plain": [
       "             Ind_ID     CHILDREN  Annual_income  Birthday_count  \\\n",
       "count  1.548000e+03  1548.000000   1.525000e+03     1526.000000   \n",
       "mean   5.078920e+06     0.412791   1.913993e+05   -16040.342071   \n",
       "std    4.171759e+04     0.776691   1.132530e+05     4229.503202   \n",
       "min    5.008827e+06     0.000000   3.375000e+04   -24946.000000   \n",
       "25%    5.045070e+06     0.000000   1.215000e+05   -19553.000000   \n",
       "50%    5.078842e+06     0.000000   1.665000e+05   -15661.500000   \n",
       "75%    5.115673e+06     1.000000   2.250000e+05   -12417.000000   \n",
       "max    5.150412e+06    14.000000   1.575000e+06    -7705.000000   \n",
       "\n",
       "       Employed_days  Mobile_phone   Work_Phone        Phone     EMAIL_ID  \\\n",
       "count    1548.000000        1548.0  1548.000000  1548.000000  1548.000000   \n",
       "mean    59364.689922           1.0     0.208010     0.309432     0.092377   \n",
       "std    137808.062701           0.0     0.406015     0.462409     0.289651   \n",
       "min    -14887.000000           1.0     0.000000     0.000000     0.000000   \n",
       "25%     -3174.500000           1.0     0.000000     0.000000     0.000000   \n",
       "50%     -1565.000000           1.0     0.000000     0.000000     0.000000   \n",
       "75%      -431.750000           1.0     0.000000     1.000000     0.000000   \n",
       "max    365243.000000           1.0     1.000000     1.000000     1.000000   \n",
       "\n",
       "       Family_Members        label  \n",
       "count     1548.000000  1548.000000  \n",
       "mean         2.161499     0.113049  \n",
       "std          0.947772     0.316755  \n",
       "min          1.000000     0.000000  \n",
       "25%          2.000000     0.000000  \n",
       "50%          2.000000     0.000000  \n",
       "75%          3.000000     0.000000  \n",
       "max         15.000000     1.000000  "
      ]
     },
     "execution_count": 7,
     "metadata": {},
     "output_type": "execute_result"
    }
   ],
   "source": [
    "df.describe()"
   ]
  },
  {
   "cell_type": "code",
   "execution_count": 8,
   "id": "523e49b7",
   "metadata": {
    "execution": {
     "iopub.execute_input": "2024-03-18T12:47:17.956498Z",
     "iopub.status.busy": "2024-03-18T12:47:17.956134Z",
     "iopub.status.idle": "2024-03-18T12:47:17.965086Z",
     "shell.execute_reply": "2024-03-18T12:47:17.964088Z"
    },
    "papermill": {
     "duration": 0.031793,
     "end_time": "2024-03-18T12:47:17.967049",
     "exception": false,
     "start_time": "2024-03-18T12:47:17.935256",
     "status": "completed"
    },
    "tags": []
   },
   "outputs": [
    {
     "data": {
      "text/plain": [
       "Ind_ID               0\n",
       "GENDER               7\n",
       "Car_Owner            0\n",
       "Propert_Owner        0\n",
       "CHILDREN             0\n",
       "Annual_income       23\n",
       "Type_Income          0\n",
       "EDUCATION            0\n",
       "Marital_status       0\n",
       "Housing_type         0\n",
       "Birthday_count      22\n",
       "Employed_days        0\n",
       "Mobile_phone         0\n",
       "Work_Phone           0\n",
       "Phone                0\n",
       "EMAIL_ID             0\n",
       "Type_Occupation    488\n",
       "Family_Members       0\n",
       "label                0\n",
       "dtype: int64"
      ]
     },
     "execution_count": 8,
     "metadata": {},
     "output_type": "execute_result"
    }
   ],
   "source": [
    "df.isnull().sum()"
   ]
  },
  {
   "cell_type": "code",
   "execution_count": 9,
   "id": "4d494140",
   "metadata": {
    "execution": {
     "iopub.execute_input": "2024-03-18T12:47:18.007840Z",
     "iopub.status.busy": "2024-03-18T12:47:18.007475Z",
     "iopub.status.idle": "2024-03-18T12:47:18.014535Z",
     "shell.execute_reply": "2024-03-18T12:47:18.013050Z"
    },
    "papermill": {
     "duration": 0.03042,
     "end_time": "2024-03-18T12:47:18.016740",
     "exception": false,
     "start_time": "2024-03-18T12:47:17.986320",
     "status": "completed"
    },
    "tags": []
   },
   "outputs": [
    {
     "name": "stderr",
     "output_type": "stream",
     "text": [
      "/tmp/ipykernel_19/1400801004.py:1: FutureWarning: A value is trying to be set on a copy of a DataFrame or Series through chained assignment using an inplace method.\n",
      "The behavior will change in pandas 3.0. This inplace method will never work because the intermediate object on which we are setting values always behaves as a copy.\n",
      "\n",
      "For example, when doing 'df[col].method(value, inplace=True)', try using 'df.method({col: value}, inplace=True)' or df[col] = df[col].method(value) instead, to perform the operation inplace on the original object.\n",
      "\n",
      "\n",
      "  df['GENDER'].fillna(df['GENDER'].mode()[0],inplace = True)\n"
     ]
    }
   ],
   "source": [
    "df['GENDER'].fillna(df['GENDER'].mode()[0],inplace = True)"
   ]
  },
  {
   "cell_type": "code",
   "execution_count": 10,
   "id": "9107416d",
   "metadata": {
    "execution": {
     "iopub.execute_input": "2024-03-18T12:47:18.125495Z",
     "iopub.status.busy": "2024-03-18T12:47:18.124806Z",
     "iopub.status.idle": "2024-03-18T12:47:18.130974Z",
     "shell.execute_reply": "2024-03-18T12:47:18.129996Z"
    },
    "papermill": {
     "duration": 0.09133,
     "end_time": "2024-03-18T12:47:18.133418",
     "exception": false,
     "start_time": "2024-03-18T12:47:18.042088",
     "status": "completed"
    },
    "tags": []
   },
   "outputs": [
    {
     "name": "stderr",
     "output_type": "stream",
     "text": [
      "/tmp/ipykernel_19/2449758793.py:1: FutureWarning: A value is trying to be set on a copy of a DataFrame or Series through chained assignment using an inplace method.\n",
      "The behavior will change in pandas 3.0. This inplace method will never work because the intermediate object on which we are setting values always behaves as a copy.\n",
      "\n",
      "For example, when doing 'df[col].method(value, inplace=True)', try using 'df.method({col: value}, inplace=True)' or df[col] = df[col].method(value) instead, to perform the operation inplace on the original object.\n",
      "\n",
      "\n",
      "  df['Annual_income'].fillna(df['Annual_income'].median(),inplace = True)\n"
     ]
    }
   ],
   "source": [
    "df['Annual_income'].fillna(df['Annual_income'].median(),inplace = True)"
   ]
  },
  {
   "cell_type": "code",
   "execution_count": 11,
   "id": "4fbb6004",
   "metadata": {
    "execution": {
     "iopub.execute_input": "2024-03-18T12:47:18.175176Z",
     "iopub.status.busy": "2024-03-18T12:47:18.174747Z",
     "iopub.status.idle": "2024-03-18T12:47:18.182119Z",
     "shell.execute_reply": "2024-03-18T12:47:18.180919Z"
    },
    "papermill": {
     "duration": 0.031339,
     "end_time": "2024-03-18T12:47:18.184721",
     "exception": false,
     "start_time": "2024-03-18T12:47:18.153382",
     "status": "completed"
    },
    "tags": []
   },
   "outputs": [
    {
     "name": "stderr",
     "output_type": "stream",
     "text": [
      "/tmp/ipykernel_19/3160800496.py:1: FutureWarning: A value is trying to be set on a copy of a DataFrame or Series through chained assignment using an inplace method.\n",
      "The behavior will change in pandas 3.0. This inplace method will never work because the intermediate object on which we are setting values always behaves as a copy.\n",
      "\n",
      "For example, when doing 'df[col].method(value, inplace=True)', try using 'df.method({col: value}, inplace=True)' or df[col] = df[col].method(value) instead, to perform the operation inplace on the original object.\n",
      "\n",
      "\n",
      "  df['Birthday_count'].fillna(df['Birthday_count'].median(),inplace = True)\n"
     ]
    }
   ],
   "source": [
    "df['Birthday_count'].fillna(df['Birthday_count'].median(),inplace = True)"
   ]
  },
  {
   "cell_type": "code",
   "execution_count": 12,
   "id": "47c9b039",
   "metadata": {
    "execution": {
     "iopub.execute_input": "2024-03-18T12:47:18.227609Z",
     "iopub.status.busy": "2024-03-18T12:47:18.227027Z",
     "iopub.status.idle": "2024-03-18T12:47:18.236424Z",
     "shell.execute_reply": "2024-03-18T12:47:18.235437Z"
    },
    "papermill": {
     "duration": 0.033627,
     "end_time": "2024-03-18T12:47:18.238514",
     "exception": false,
     "start_time": "2024-03-18T12:47:18.204887",
     "status": "completed"
    },
    "tags": []
   },
   "outputs": [
    {
     "data": {
      "text/plain": [
       "Ind_ID               0\n",
       "GENDER               0\n",
       "Car_Owner            0\n",
       "Propert_Owner        0\n",
       "CHILDREN             0\n",
       "Annual_income        0\n",
       "Type_Income          0\n",
       "EDUCATION            0\n",
       "Marital_status       0\n",
       "Housing_type         0\n",
       "Birthday_count       0\n",
       "Employed_days        0\n",
       "Mobile_phone         0\n",
       "Work_Phone           0\n",
       "Phone                0\n",
       "EMAIL_ID             0\n",
       "Type_Occupation    488\n",
       "Family_Members       0\n",
       "label                0\n",
       "dtype: int64"
      ]
     },
     "execution_count": 12,
     "metadata": {},
     "output_type": "execute_result"
    }
   ],
   "source": [
    "df.isnull().sum()"
   ]
  },
  {
   "cell_type": "code",
   "execution_count": 13,
   "id": "4b3e25e0",
   "metadata": {
    "execution": {
     "iopub.execute_input": "2024-03-18T12:47:18.280781Z",
     "iopub.status.busy": "2024-03-18T12:47:18.279625Z",
     "iopub.status.idle": "2024-03-18T12:47:18.287547Z",
     "shell.execute_reply": "2024-03-18T12:47:18.286539Z"
    },
    "papermill": {
     "duration": 0.031522,
     "end_time": "2024-03-18T12:47:18.289937",
     "exception": false,
     "start_time": "2024-03-18T12:47:18.258415",
     "status": "completed"
    },
    "tags": []
   },
   "outputs": [],
   "source": [
    "df.drop('Type_Occupation',axis = 1,inplace = True) #dropping the Type_Occupation because it has so many null values"
   ]
  },
  {
   "cell_type": "code",
   "execution_count": 14,
   "id": "1ddcde6e",
   "metadata": {
    "execution": {
     "iopub.execute_input": "2024-03-18T12:47:18.332711Z",
     "iopub.status.busy": "2024-03-18T12:47:18.332350Z",
     "iopub.status.idle": "2024-03-18T12:47:18.343775Z",
     "shell.execute_reply": "2024-03-18T12:47:18.342728Z"
    },
    "papermill": {
     "duration": 0.035918,
     "end_time": "2024-03-18T12:47:18.346282",
     "exception": false,
     "start_time": "2024-03-18T12:47:18.310364",
     "status": "completed"
    },
    "tags": []
   },
   "outputs": [
    {
     "name": "stdout",
     "output_type": "stream",
     "text": [
      "<class 'pandas.core.frame.DataFrame'>\n",
      "RangeIndex: 1548 entries, 0 to 1547\n",
      "Data columns (total 18 columns):\n",
      " #   Column          Non-Null Count  Dtype  \n",
      "---  ------          --------------  -----  \n",
      " 0   Ind_ID          1548 non-null   int64  \n",
      " 1   GENDER          1548 non-null   object \n",
      " 2   Car_Owner       1548 non-null   object \n",
      " 3   Propert_Owner   1548 non-null   object \n",
      " 4   CHILDREN        1548 non-null   int64  \n",
      " 5   Annual_income   1548 non-null   float64\n",
      " 6   Type_Income     1548 non-null   object \n",
      " 7   EDUCATION       1548 non-null   object \n",
      " 8   Marital_status  1548 non-null   object \n",
      " 9   Housing_type    1548 non-null   object \n",
      " 10  Birthday_count  1548 non-null   float64\n",
      " 11  Employed_days   1548 non-null   int64  \n",
      " 12  Mobile_phone    1548 non-null   int64  \n",
      " 13  Work_Phone      1548 non-null   int64  \n",
      " 14  Phone           1548 non-null   int64  \n",
      " 15  EMAIL_ID        1548 non-null   int64  \n",
      " 16  Family_Members  1548 non-null   int64  \n",
      " 17  label           1548 non-null   int64  \n",
      "dtypes: float64(2), int64(9), object(7)\n",
      "memory usage: 217.8+ KB\n"
     ]
    }
   ],
   "source": [
    "df.info()"
   ]
  },
  {
   "cell_type": "code",
   "execution_count": 15,
   "id": "95436d9f",
   "metadata": {
    "execution": {
     "iopub.execute_input": "2024-03-18T12:47:18.388351Z",
     "iopub.status.busy": "2024-03-18T12:47:18.387941Z",
     "iopub.status.idle": "2024-03-18T12:47:18.394581Z",
     "shell.execute_reply": "2024-03-18T12:47:18.393812Z"
    },
    "papermill": {
     "duration": 0.030511,
     "end_time": "2024-03-18T12:47:18.396745",
     "exception": false,
     "start_time": "2024-03-18T12:47:18.366234",
     "status": "completed"
    },
    "tags": []
   },
   "outputs": [
    {
     "data": {
      "text/plain": [
       "['GENDER',\n",
       " 'Car_Owner',\n",
       " 'Propert_Owner',\n",
       " 'Type_Income',\n",
       " 'EDUCATION',\n",
       " 'Marital_status',\n",
       " 'Housing_type']"
      ]
     },
     "execution_count": 15,
     "metadata": {},
     "output_type": "execute_result"
    }
   ],
   "source": [
    "cat_columns = df.columns[(df.dtypes =='object').values].tolist() #Checking the categorical columns\n",
    "cat_columns"
   ]
  },
  {
   "cell_type": "code",
   "execution_count": 16,
   "id": "54dd7c00",
   "metadata": {
    "execution": {
     "iopub.execute_input": "2024-03-18T12:47:18.439989Z",
     "iopub.status.busy": "2024-03-18T12:47:18.439035Z",
     "iopub.status.idle": "2024-03-18T12:47:18.447166Z",
     "shell.execute_reply": "2024-03-18T12:47:18.446128Z"
    },
    "papermill": {
     "duration": 0.032153,
     "end_time": "2024-03-18T12:47:18.449465",
     "exception": false,
     "start_time": "2024-03-18T12:47:18.417312",
     "status": "completed"
    },
    "tags": []
   },
   "outputs": [
    {
     "data": {
      "text/plain": [
       "['Ind_ID',\n",
       " 'CHILDREN',\n",
       " 'Annual_income',\n",
       " 'Birthday_count',\n",
       " 'Employed_days',\n",
       " 'Mobile_phone',\n",
       " 'Work_Phone',\n",
       " 'Phone',\n",
       " 'EMAIL_ID',\n",
       " 'Family_Members',\n",
       " 'label']"
      ]
     },
     "execution_count": 16,
     "metadata": {},
     "output_type": "execute_result"
    }
   ],
   "source": [
    "num_columns = df.columns[(df.dtypes !='object').values].tolist() #checking the numerical columns\n",
    "num_columns"
   ]
  },
  {
   "cell_type": "code",
   "execution_count": 17,
   "id": "40ae3053",
   "metadata": {
    "execution": {
     "iopub.execute_input": "2024-03-18T12:47:18.491841Z",
     "iopub.status.busy": "2024-03-18T12:47:18.491488Z",
     "iopub.status.idle": "2024-03-18T12:47:18.504315Z",
     "shell.execute_reply": "2024-03-18T12:47:18.503075Z"
    },
    "papermill": {
     "duration": 0.036968,
     "end_time": "2024-03-18T12:47:18.506707",
     "exception": false,
     "start_time": "2024-03-18T12:47:18.469739",
     "status": "completed"
    },
    "tags": []
   },
   "outputs": [
    {
     "name": "stdout",
     "output_type": "stream",
     "text": [
      "GENDER \n",
      "\n",
      "GENDER\n",
      "F    980\n",
      "M    568\n",
      "Name: count, dtype: int64\n",
      "-----------------------------------------------\n",
      "Car_Owner \n",
      "\n",
      "Car_Owner\n",
      "N    924\n",
      "Y    624\n",
      "Name: count, dtype: int64\n",
      "-----------------------------------------------\n",
      "Propert_Owner \n",
      "\n",
      "Propert_Owner\n",
      "Y    1010\n",
      "N     538\n",
      "Name: count, dtype: int64\n",
      "-----------------------------------------------\n",
      "Type_Income \n",
      "\n",
      "Type_Income\n",
      "Working                 798\n",
      "Commercial associate    365\n",
      "Pensioner               269\n",
      "State servant           116\n",
      "Name: count, dtype: int64\n",
      "-----------------------------------------------\n",
      "EDUCATION \n",
      "\n",
      "EDUCATION\n",
      "Secondary / secondary special    1031\n",
      "Higher education                  426\n",
      "Incomplete higher                  68\n",
      "Lower secondary                    21\n",
      "Academic degree                     2\n",
      "Name: count, dtype: int64\n",
      "-----------------------------------------------\n",
      "Marital_status \n",
      "\n",
      "Marital_status\n",
      "Married                 1049\n",
      "Single / not married     227\n",
      "Civil marriage           101\n",
      "Separated                 96\n",
      "Widow                     75\n",
      "Name: count, dtype: int64\n",
      "-----------------------------------------------\n",
      "Housing_type \n",
      "\n",
      "Housing_type\n",
      "House / apartment      1380\n",
      "With parents             80\n",
      "Municipal apartment      53\n",
      "Rented apartment         21\n",
      "Office apartment          9\n",
      "Co-op apartment           5\n",
      "Name: count, dtype: int64\n",
      "-----------------------------------------------\n"
     ]
    }
   ],
   "source": [
    "# Checking unique values from Categorical Columns\n",
    "\n",
    "for i in df.columns[(df.dtypes =='object').values].tolist():\n",
    "    print(i,'\\n')\n",
    "    print(df[i].value_counts())\n",
    "    print('-----------------------------------------------')"
   ]
  },
  {
   "cell_type": "code",
   "execution_count": 18,
   "id": "e100f7f1",
   "metadata": {
    "execution": {
     "iopub.execute_input": "2024-03-18T12:47:18.549806Z",
     "iopub.status.busy": "2024-03-18T12:47:18.549159Z",
     "iopub.status.idle": "2024-03-18T12:47:18.559024Z",
     "shell.execute_reply": "2024-03-18T12:47:18.557975Z"
    },
    "papermill": {
     "duration": 0.034077,
     "end_time": "2024-03-18T12:47:18.561108",
     "exception": false,
     "start_time": "2024-03-18T12:47:18.527031",
     "status": "completed"
    },
    "tags": []
   },
   "outputs": [
    {
     "data": {
      "text/plain": [
       "CHILDREN\n",
       "0     1091\n",
       "1      305\n",
       "2      134\n",
       "3       16\n",
       "4        1\n",
       "14       1\n",
       "Name: count, dtype: int64"
      ]
     },
     "execution_count": 18,
     "metadata": {},
     "output_type": "execute_result"
    }
   ],
   "source": [
    "df['CHILDREN'].value_counts()"
   ]
  },
  {
   "cell_type": "code",
   "execution_count": 19,
   "id": "5a16cf80",
   "metadata": {
    "execution": {
     "iopub.execute_input": "2024-03-18T12:47:18.604368Z",
     "iopub.status.busy": "2024-03-18T12:47:18.603989Z",
     "iopub.status.idle": "2024-03-18T12:47:18.608678Z",
     "shell.execute_reply": "2024-03-18T12:47:18.607881Z"
    },
    "papermill": {
     "duration": 0.02928,
     "end_time": "2024-03-18T12:47:18.610959",
     "exception": false,
     "start_time": "2024-03-18T12:47:18.581679",
     "status": "completed"
    },
    "tags": []
   },
   "outputs": [
    {
     "name": "stdout",
     "output_type": "stream",
     "text": [
      "Min DAYS_BIRTH : -24946.0 \n",
      "Max DAYS_BIRTH : -7705.0\n"
     ]
    }
   ],
   "source": [
    "# Checking Min , Max values from 'DAYS_BIRTH' column\n",
    "print('Min DAYS_BIRTH :', df['Birthday_count'].min(),'\\nMax DAYS_BIRTH :', df['Birthday_count'].max())"
   ]
  },
  {
   "cell_type": "code",
   "execution_count": 20,
   "id": "5ef78ae4",
   "metadata": {
    "execution": {
     "iopub.execute_input": "2024-03-18T12:47:18.654634Z",
     "iopub.status.busy": "2024-03-18T12:47:18.653904Z",
     "iopub.status.idle": "2024-03-18T12:47:18.661342Z",
     "shell.execute_reply": "2024-03-18T12:47:18.660174Z"
    },
    "papermill": {
     "duration": 0.031823,
     "end_time": "2024-03-18T12:47:18.663550",
     "exception": false,
     "start_time": "2024-03-18T12:47:18.631727",
     "status": "completed"
    },
    "tags": []
   },
   "outputs": [],
   "source": [
    "# Converting 'DAYS_BIRTH' values from Day to Years\n",
    "df['Birthday_count'] = round(df['Birthday_count']/-365,0)\n",
    "df.rename(columns={'Birthday_count':'AGE_YEARS'}, inplace=True)"
   ]
  },
  {
   "cell_type": "code",
   "execution_count": 21,
   "id": "0bcb4a2b",
   "metadata": {
    "execution": {
     "iopub.execute_input": "2024-03-18T12:47:18.706406Z",
     "iopub.status.busy": "2024-03-18T12:47:18.706009Z",
     "iopub.status.idle": "2024-03-18T12:47:18.723498Z",
     "shell.execute_reply": "2024-03-18T12:47:18.722561Z"
    },
    "papermill": {
     "duration": 0.041265,
     "end_time": "2024-03-18T12:47:18.725423",
     "exception": false,
     "start_time": "2024-03-18T12:47:18.684158",
     "status": "completed"
    },
    "tags": []
   },
   "outputs": [
    {
     "data": {
      "text/html": [
       "<div>\n",
       "<style scoped>\n",
       "    .dataframe tbody tr th:only-of-type {\n",
       "        vertical-align: middle;\n",
       "    }\n",
       "\n",
       "    .dataframe tbody tr th {\n",
       "        vertical-align: top;\n",
       "    }\n",
       "\n",
       "    .dataframe thead th {\n",
       "        text-align: right;\n",
       "    }\n",
       "</style>\n",
       "<table border=\"1\" class=\"dataframe\">\n",
       "  <thead>\n",
       "    <tr style=\"text-align: right;\">\n",
       "      <th></th>\n",
       "      <th>Ind_ID</th>\n",
       "      <th>GENDER</th>\n",
       "      <th>Car_Owner</th>\n",
       "      <th>Propert_Owner</th>\n",
       "      <th>CHILDREN</th>\n",
       "      <th>Annual_income</th>\n",
       "      <th>Type_Income</th>\n",
       "      <th>EDUCATION</th>\n",
       "      <th>Marital_status</th>\n",
       "      <th>Housing_type</th>\n",
       "      <th>AGE_YEARS</th>\n",
       "      <th>Employed_days</th>\n",
       "      <th>Mobile_phone</th>\n",
       "      <th>Work_Phone</th>\n",
       "      <th>Phone</th>\n",
       "      <th>EMAIL_ID</th>\n",
       "      <th>Family_Members</th>\n",
       "      <th>label</th>\n",
       "    </tr>\n",
       "  </thead>\n",
       "  <tbody>\n",
       "    <tr>\n",
       "      <th>0</th>\n",
       "      <td>5008827</td>\n",
       "      <td>M</td>\n",
       "      <td>Y</td>\n",
       "      <td>Y</td>\n",
       "      <td>0</td>\n",
       "      <td>180000.0</td>\n",
       "      <td>Pensioner</td>\n",
       "      <td>Higher education</td>\n",
       "      <td>Married</td>\n",
       "      <td>House / apartment</td>\n",
       "      <td>51.0</td>\n",
       "      <td>365243</td>\n",
       "      <td>1</td>\n",
       "      <td>0</td>\n",
       "      <td>0</td>\n",
       "      <td>0</td>\n",
       "      <td>2</td>\n",
       "      <td>1</td>\n",
       "    </tr>\n",
       "    <tr>\n",
       "      <th>1</th>\n",
       "      <td>5009744</td>\n",
       "      <td>F</td>\n",
       "      <td>Y</td>\n",
       "      <td>N</td>\n",
       "      <td>0</td>\n",
       "      <td>315000.0</td>\n",
       "      <td>Commercial associate</td>\n",
       "      <td>Higher education</td>\n",
       "      <td>Married</td>\n",
       "      <td>House / apartment</td>\n",
       "      <td>37.0</td>\n",
       "      <td>-586</td>\n",
       "      <td>1</td>\n",
       "      <td>1</td>\n",
       "      <td>1</td>\n",
       "      <td>0</td>\n",
       "      <td>2</td>\n",
       "      <td>1</td>\n",
       "    </tr>\n",
       "    <tr>\n",
       "      <th>2</th>\n",
       "      <td>5009746</td>\n",
       "      <td>F</td>\n",
       "      <td>Y</td>\n",
       "      <td>N</td>\n",
       "      <td>0</td>\n",
       "      <td>315000.0</td>\n",
       "      <td>Commercial associate</td>\n",
       "      <td>Higher education</td>\n",
       "      <td>Married</td>\n",
       "      <td>House / apartment</td>\n",
       "      <td>43.0</td>\n",
       "      <td>-586</td>\n",
       "      <td>1</td>\n",
       "      <td>1</td>\n",
       "      <td>1</td>\n",
       "      <td>0</td>\n",
       "      <td>2</td>\n",
       "      <td>1</td>\n",
       "    </tr>\n",
       "    <tr>\n",
       "      <th>3</th>\n",
       "      <td>5009749</td>\n",
       "      <td>F</td>\n",
       "      <td>Y</td>\n",
       "      <td>N</td>\n",
       "      <td>0</td>\n",
       "      <td>166500.0</td>\n",
       "      <td>Commercial associate</td>\n",
       "      <td>Higher education</td>\n",
       "      <td>Married</td>\n",
       "      <td>House / apartment</td>\n",
       "      <td>37.0</td>\n",
       "      <td>-586</td>\n",
       "      <td>1</td>\n",
       "      <td>1</td>\n",
       "      <td>1</td>\n",
       "      <td>0</td>\n",
       "      <td>2</td>\n",
       "      <td>1</td>\n",
       "    </tr>\n",
       "    <tr>\n",
       "      <th>4</th>\n",
       "      <td>5009752</td>\n",
       "      <td>F</td>\n",
       "      <td>Y</td>\n",
       "      <td>N</td>\n",
       "      <td>0</td>\n",
       "      <td>315000.0</td>\n",
       "      <td>Commercial associate</td>\n",
       "      <td>Higher education</td>\n",
       "      <td>Married</td>\n",
       "      <td>House / apartment</td>\n",
       "      <td>37.0</td>\n",
       "      <td>-586</td>\n",
       "      <td>1</td>\n",
       "      <td>1</td>\n",
       "      <td>1</td>\n",
       "      <td>0</td>\n",
       "      <td>2</td>\n",
       "      <td>1</td>\n",
       "    </tr>\n",
       "  </tbody>\n",
       "</table>\n",
       "</div>"
      ],
      "text/plain": [
       "    Ind_ID GENDER Car_Owner Propert_Owner  CHILDREN  Annual_income  \\\n",
       "0  5008827      M         Y             Y         0       180000.0   \n",
       "1  5009744      F         Y             N         0       315000.0   \n",
       "2  5009746      F         Y             N         0       315000.0   \n",
       "3  5009749      F         Y             N         0       166500.0   \n",
       "4  5009752      F         Y             N         0       315000.0   \n",
       "\n",
       "            Type_Income         EDUCATION Marital_status       Housing_type  \\\n",
       "0             Pensioner  Higher education        Married  House / apartment   \n",
       "1  Commercial associate  Higher education        Married  House / apartment   \n",
       "2  Commercial associate  Higher education        Married  House / apartment   \n",
       "3  Commercial associate  Higher education        Married  House / apartment   \n",
       "4  Commercial associate  Higher education        Married  House / apartment   \n",
       "\n",
       "   AGE_YEARS  Employed_days  Mobile_phone  Work_Phone  Phone  EMAIL_ID  \\\n",
       "0       51.0         365243             1           0      0         0   \n",
       "1       37.0           -586             1           1      1         0   \n",
       "2       43.0           -586             1           1      1         0   \n",
       "3       37.0           -586             1           1      1         0   \n",
       "4       37.0           -586             1           1      1         0   \n",
       "\n",
       "   Family_Members  label  \n",
       "0               2      1  \n",
       "1               2      1  \n",
       "2               2      1  \n",
       "3               2      1  \n",
       "4               2      1  "
      ]
     },
     "execution_count": 21,
     "metadata": {},
     "output_type": "execute_result"
    }
   ],
   "source": [
    "df.head()"
   ]
  },
  {
   "cell_type": "code",
   "execution_count": 22,
   "id": "0016a6ea",
   "metadata": {
    "execution": {
     "iopub.execute_input": "2024-03-18T12:47:18.768339Z",
     "iopub.status.busy": "2024-03-18T12:47:18.767952Z",
     "iopub.status.idle": "2024-03-18T12:47:18.778068Z",
     "shell.execute_reply": "2024-03-18T12:47:18.776982Z"
    },
    "papermill": {
     "duration": 0.033934,
     "end_time": "2024-03-18T12:47:18.780084",
     "exception": false,
     "start_time": "2024-03-18T12:47:18.746150",
     "status": "completed"
    },
    "tags": []
   },
   "outputs": [
    {
     "data": {
      "text/plain": [
       "array([365243,   -586,   -678,  -1002,   -913,   -248,  -2470,  -1644,\n",
       "        -4327,  -1674,  -1086,   -925,   -854,   -185,  -3350,   -691,\n",
       "        -4770,  -2394,   -384,  -3647,  -1546,   -808,  -1285,   -855,\n",
       "        -7369,  -2269,  -4114,  -1161,  -7288,   -166,   -866,   -564,\n",
       "        -3366,  -2150,  -1458,  -8369,   -508,  -1567,   -137,  -3974,\n",
       "        -1570,  -2878,   -140,  -2576,  -1905,  -1724,  -1328,  -4987,\n",
       "        -3496,  -1394,  -1265,  -2531,  -2105,   -860,   -217,   -535,\n",
       "        -6866,   -584,  -2227,  -8161,   -613,   -606,  -6944,   -346,\n",
       "        -1808,  -3420,   -863,  -7413,  -7553,  -3931,  -1039,   -134,\n",
       "         -622,  -1595,  -1626,  -1868,   -555,  -1935,   -931,   -900,\n",
       "        -4305,   -499,  -2418,   -189,  -1132,  -1770,   -919,  -1081,\n",
       "         -502,  -2420,  -1325,  -6367,  -2484,   -341,  -9422,  -3054,\n",
       "        -2987,  -2128,   -820,   -141,  -1692,  -4686,   -693,   -567,\n",
       "         -885,  -2769,  -1547,  -3179,  -5204,  -3072,   -320,  -2469,\n",
       "         -583,   -834,  -1085,  -1399,  -7310,  -1748,  -2479,   -875,\n",
       "        -2805,  -2477,  -1477,  -1782,   -431,  -1416,   -263,  -2349,\n",
       "         -412,  -7068,  -1787,  -1345,  -3717,  -1048,  -2667,  -2606,\n",
       "        -2135,  -1534,  -2311,  -1323,  -5061,  -2213,  -2152,  -4509,\n",
       "        -1552,  -1569,  -1679,  -8684,  -6337,    -97,  -1222,   -531,\n",
       "        -7591,  -5639,  -1776,  -5498,  -5880,   -460,  -4532,  -3309,\n",
       "        -3873,   -344,  -1923,   -604,  -1922,  -1496,   -708, -12332,\n",
       "        -5209,  -6273,  -2722,  -9363,   -746,  -1322,  -3458,   -158,\n",
       "        -2457,  -2811,  -7018,  -2026,   -188,  -2967,  -3166,  -5107,\n",
       "        -1649,  -3694,  -3697,  -4596,  -5674,  -1682,   -196,   -530,\n",
       "        -1696,  -2168, -13382,  -1509,  -1347,  -1405,   -227,  -9975,\n",
       "        -1505,  -5084,  -2905,   -356,  -1719,  -3680,   -962,  -3000,\n",
       "        -4275,   -110,  -2078,  -8377,  -4392,   -126,  -7640,  -3153,\n",
       "         -139,  -4023,  -4888, -14887,  -3319,  -1966,   -200,  -6123,\n",
       "         -117,  -2625,  -1763,  -3689,  -3414,  -2910,  -3412,  -1107,\n",
       "        -8036,  -3608,   -101,  -3231,   -203,  -1589,  -3577,   -735,\n",
       "        -8737,  -1617,  -1591,   -979,   -422,   -655,  -3653,  -1261,\n",
       "        -7346,  -5545,  -3810,  -1190,  -3246,  -7676,  -1353,  -3715,\n",
       "        -1113,   -992,  -2289, -12621,  -3643,   -869,  -2174,  -5336,\n",
       "        -3535,  -4407,   -453,   -960,  -4711,  -1965,  -2543,  -1393,\n",
       "        -2234,  -1631,  -1619,  -5981,  -2682,  -3443,  -2330,   -413,\n",
       "        -6645,   -505,   -201,  -3273,  -1462,  -2609,   -521,  -1321,\n",
       "        -2467,   -716,  -1632,   -614,  -1904,   -351,  -7260,   -626,\n",
       "        -6853,   -458,  -1628,  -6094,   -734,   -657,  -2700,   -880,\n",
       "         -157,   -135,  -1497,  -1266,   -515,  -1023,  -2129,   -575,\n",
       "        -3262,   -430,  -2207,  -1866,  -4568,   -309,   -578,  -6908,\n",
       "        -1931,  -8033,  -2257,  -3776,  -4583,  -4404,   -727,  -3805,\n",
       "        -2316,  -1455,  -5422,   -581,   -893,  -1860,  -6317,  -1000,\n",
       "        -4766,  -2259,  -1344,  -4690,  -8290,  -2052,  -5004,   -923,\n",
       "        -1193,   -793,  -5453,    -88,  -5495,   -593,  -4816,  -1586,\n",
       "        -2104,  -1032,  -9698,  -1131,  -1175,  -8375,  -2199,  -1912,\n",
       "         -926,  -2499,  -2654,  -1174,   -230,  -2276,  -2197,  -2468,\n",
       "       -11448,   -932,  -2956,   -619,  -3787,  -1253,  -3242,   -298,\n",
       "         -124,  -4082,  -1431,  -5330,  -1017,  -1128,  -3088,  -1466,\n",
       "        -1689,  -3003,  -4039,   -588,   -282,  -4491,  -1155,  -1220,\n",
       "        -1203,   -712,  -2844,  -4031,  -3322,  -6693,  -2760,  -2532,\n",
       "        -1646, -11542,  -5408,  -1374,  -3092,  -2993,  -2379,  -1281,\n",
       "        -7804,  -3002,   -825,  -2057,  -1611,   -652,  -2537,  -2331,\n",
       "        -4710,  -1191,  -1162,  -3900,   -219,   -223,  -3034,  -3329,\n",
       "         -235,  -3503,  -1324,  -3112,  -2959,   -234,   -719,  -2616,\n",
       "        -4410,  -1587,  -1537,  -1430,  -1928,  -2753,   -867,  -2134,\n",
       "        -3232,    -95,  -3690,  -9870,  -4979,  -3396,   -461,  -5206,\n",
       "        -3173,   -732,   -432,  -2102,  -6583,   -156,  -5460,  -2506,\n",
       "        -3397,  -3792,  -3230,  -2464,  -3334,  -3110,  -2966,  -2728,\n",
       "        -4161,  -7494,  -4280,  -5891,  -1350,   -609,  -2381,  -1613,\n",
       "        -3533,  -6218,  -2874,  -1654,  -2433,  -4534,   -522,   -798,\n",
       "        -2620,   -145,   -663,  -2299,  -1812,  -2589,   -130,  -5056,\n",
       "         -796,  -7341,  -1130,  -5436,  -2368,  -1889,  -1315,  -1678,\n",
       "        -2939,  -1616,  -8405,  -3476,  -3453,  -3769,  -1359,  -2990,\n",
       "        -2321,  -4267,  -1386,   -645,   -886,  -1823,  -4965,  -3716,\n",
       "        -1557,  -3761,  -1981,   -102,   -288,  -2147,  -3929,   -424,\n",
       "        -1069,  -2323,  -3332,   -553,   -375,  -6352,  -1056,  -1172,\n",
       "        -4663,  -5587,  -1406,  -8966,  -6860,  -1463,   -561,  -3661,\n",
       "        -6764, -10600,  -3999,  -3960,  -2065,  -1205,  -1135,  -5190,\n",
       "        -3720,  -2633,  -3272,  -2500,  -6033,   -170,   -278,  -3062,\n",
       "        -8157,  -2653,  -1953,  -5457,  -1997,  -3435,  -1504,  -2696,\n",
       "       -13735,   -132,  -6621,  -2481,  -2818, -11906,  -1077,  -9258,\n",
       "        -2277,  -2422,   -826,  -2969,  -2086,  -1070,  -8172,   -701,\n",
       "        -1384,  -9447,  -1160,  -1952,  -1354,   -469,   -563,  -1526,\n",
       "        -2092,  -1749,   -168,  -4029,  -4967,  -3282,   -339,  -7979,\n",
       "        -9683,   -577,  -2622,   -976,  -1994,  -1563,  -4523,   -340,\n",
       "        -6614,  -1639,  -3392,  -3261,  -3928,  -5082,  -3630,  -3591,\n",
       "        -1199,  -4304,  -2514,  -2187,  -7140,    -96,  -5176,  -6761,\n",
       "        -2356,  -2908,  -3333,  -3596,  -4606,  -4030,  -5246,  -2906,\n",
       "        -1915,  -1267,  -1256,  -1721,  -2317,  -1518,   -864,  -7364,\n",
       "        -1101,  -2231,  -1327,   -355,  -1934,  -5179,  -2326,   -980,\n",
       "        -1224,  -7048,  -2266,    -73,  -2661,   -286,  -8044,   -523,\n",
       "         -978,   -795,  -2351,  -1114,  -3760,  -5145,  -4119,  -3641,\n",
       "         -481,  -4603,   -888,   -393,  -1007, -10688,  -2228,  -8479,\n",
       "        -2180,  -1362,  -1876,  -2265, -11389,  -4146,  -5500,  -5521,\n",
       "         -658,  -3695,   -901,  -1751,  -3663,  -3149,  -1375,   -183,\n",
       "         -500,   -489,  -2450,  -1539,  -1556,  -7095,   -674,  -2605,\n",
       "        -1999,  -4599,  -6488,  -1054,   -745,  -3505,  -1585,  -6904,\n",
       "        -2530,  -1420,   -314,  -2441, -11884,  -4520,  -3289,  -1495,\n",
       "        -3504,  -3093,  -2417,  -2554,   -818,  -9359,  -1508, -10364,\n",
       "        -4331,  -2296,  -2142,  -3163,  -3961,  -2896,  -1185,  -1670,\n",
       "        -3670,  -1202,  -4936,   -596,  -6648,   -747,  -1741,  -1615,\n",
       "        -1444,  -2089,   -397,  -2592,  -1618,  -2822,  -1600,  -2558,\n",
       "         -991,  -2758,  -2988,  -2904,  -3377,  -3902,  -3202,   -671,\n",
       "         -848,   -552,  -2559,  -2361,  -3854,  -1182,  -2384,  -8230,\n",
       "        -2493,  -2362,  -4034,  -2143,  -2393,  -2565,   -450,  -5496,\n",
       "        -2319,   -191,  -3506,  -2865,  -2339,  -2072,  -7013,  -3008,\n",
       "        -2932,   -565,  -1282,  -3154,  -1225,  -2333,  -1869, -11940,\n",
       "        -3515,  -3291,   -407,   -444,   -226,   -279,  -1661,   -896,\n",
       "         -670,  -2533,  -7400,  -3339,  -1259,   -265,  -1870,  -2540,\n",
       "        -2978,   -187,   -477,  -1436,  -1978,  -1133,  -2985, -10758,\n",
       "        -4288,    -89,  -6930,  -1807,  -3143,  -3850,  -4560,   -785,\n",
       "        -3570,   -777, -11451,   -742,  -5950,   -464,   -385,  -2475,\n",
       "        -2051,  -3607,  -2454,  -7614,  -2796,   -642,  -4004,  -4917,\n",
       "        -5622,   -313,  -1753,  -5830,  -1677,  -3078,  -3061,   -625,\n",
       "        -1381,   -308,  -5437,   -218,  -3195,  -1198,  -1473,  -5483,\n",
       "         -704, -12870,  -5373,  -7128,  -2255,  -5345,  -3574,   -164,\n",
       "        -6226,  -6678,  -2024,   -890,  -6075,  -1774,   -686,  -3229,\n",
       "        -3455,  -5454, -13010,  -5507,  -6640,  -5488,   -221,   -127,\n",
       "        -8760,  -7718,  -3123,  -1652,  -6879,  -2673,   -420,  -1072,\n",
       "        -5760,  -1871,  -1707,  -1962,  -1598,  -1583,  -7264,   -536,\n",
       "        -1313,  -2512,  -5673,  -3380,  -3944,  -3654,   -171,  -1801,\n",
       "        -1138,  -1897,  -2980,  -1581,  -6558,  -4434,   -210,  -3032,\n",
       "        -2389,  -1467,   -377, -10762,  -2788,  -3668,  -2340,  -9925,\n",
       "         -918,  -4219,   -194,  -3010,   -370,   -232,   -285,  -1830,\n",
       "        -3853,  -2866,  -1022,  -2423,  -2545,  -6230,   -104,  -2631,\n",
       "         -367,   -857,  -4887,   -433,   -803,  -3361,  -1520,  -5155,\n",
       "        -5006,  -2191,  -1064,   -828,  -4874,  -1217,  -7557,  -5334,\n",
       "         -611,  -5215,   -438,   -958,  -3095,  -2827,  -3693,  -2262,\n",
       "         -195,   -109,  -5862,  -1200,  -1891,  -4662,  -2924,  -1648,\n",
       "        -3536,  -2182,  -1209,  -2859])"
      ]
     },
     "execution_count": 22,
     "metadata": {},
     "output_type": "execute_result"
    }
   ],
   "source": [
    "# Checking unique values greater than 0\n",
    "df['Employed_days'].unique()"
   ]
  },
  {
   "cell_type": "code",
   "execution_count": 23,
   "id": "abd63ff9",
   "metadata": {
    "execution": {
     "iopub.execute_input": "2024-03-18T12:47:18.824630Z",
     "iopub.status.busy": "2024-03-18T12:47:18.824240Z",
     "iopub.status.idle": "2024-03-18T12:47:18.829961Z",
     "shell.execute_reply": "2024-03-18T12:47:18.829177Z"
    },
    "papermill": {
     "duration": 0.030331,
     "end_time": "2024-03-18T12:47:18.831887",
     "exception": false,
     "start_time": "2024-03-18T12:47:18.801556",
     "status": "completed"
    },
    "tags": []
   },
   "outputs": [
    {
     "name": "stderr",
     "output_type": "stream",
     "text": [
      "/tmp/ipykernel_19/1736203378.py:2: FutureWarning: A value is trying to be set on a copy of a DataFrame or Series through chained assignment using an inplace method.\n",
      "The behavior will change in pandas 3.0. This inplace method will never work because the intermediate object on which we are setting values always behaves as a copy.\n",
      "\n",
      "For example, when doing 'df[col].method(value, inplace=True)', try using 'df.method({col: value}, inplace=True)' or df[col] = df[col].method(value) instead, to perform the operation inplace on the original object.\n",
      "\n",
      "\n",
      "  df['Employed_days'].replace(365243, 0, inplace=True)\n"
     ]
    }
   ],
   "source": [
    "# As mentioned in document, if 'DAYS_EMPLOYED' is positive no, it means person currently unemployed, hence replacing it with 0\n",
    "df['Employed_days'].replace(365243, 0, inplace=True)"
   ]
  },
  {
   "cell_type": "code",
   "execution_count": 24,
   "id": "cb450134",
   "metadata": {
    "execution": {
     "iopub.execute_input": "2024-03-18T12:47:18.877013Z",
     "iopub.status.busy": "2024-03-18T12:47:18.876622Z",
     "iopub.status.idle": "2024-03-18T12:47:18.883279Z",
     "shell.execute_reply": "2024-03-18T12:47:18.882299Z"
    },
    "papermill": {
     "duration": 0.032641,
     "end_time": "2024-03-18T12:47:18.885833",
     "exception": false,
     "start_time": "2024-03-18T12:47:18.853192",
     "status": "completed"
    },
    "tags": []
   },
   "outputs": [],
   "source": [
    "# Converting 'DAYS_EMPLOYED' values from Day to Years\n",
    "df['Employed_days'] = abs(round(df['Employed_days']/-365,0))\n",
    "df.rename(columns={'Employed_days':'YEARS_EMPLOYED'}, inplace=True)"
   ]
  },
  {
   "cell_type": "code",
   "execution_count": 25,
   "id": "ccb0f582",
   "metadata": {
    "execution": {
     "iopub.execute_input": "2024-03-18T12:47:18.930252Z",
     "iopub.status.busy": "2024-03-18T12:47:18.929866Z",
     "iopub.status.idle": "2024-03-18T12:47:18.937691Z",
     "shell.execute_reply": "2024-03-18T12:47:18.936688Z"
    },
    "papermill": {
     "duration": 0.032602,
     "end_time": "2024-03-18T12:47:18.939666",
     "exception": false,
     "start_time": "2024-03-18T12:47:18.907064",
     "status": "completed"
    },
    "tags": []
   },
   "outputs": [
    {
     "data": {
      "text/plain": [
       "Mobile_phone\n",
       "1    1548\n",
       "Name: count, dtype: int64"
      ]
     },
     "execution_count": 25,
     "metadata": {},
     "output_type": "execute_result"
    }
   ],
   "source": [
    "df['Mobile_phone'].value_counts()"
   ]
  },
  {
   "cell_type": "code",
   "execution_count": 26,
   "id": "908828fe",
   "metadata": {
    "execution": {
     "iopub.execute_input": "2024-03-18T12:47:18.984141Z",
     "iopub.status.busy": "2024-03-18T12:47:18.983735Z",
     "iopub.status.idle": "2024-03-18T12:47:18.990213Z",
     "shell.execute_reply": "2024-03-18T12:47:18.989175Z"
    },
    "papermill": {
     "duration": 0.031277,
     "end_time": "2024-03-18T12:47:18.992422",
     "exception": false,
     "start_time": "2024-03-18T12:47:18.961145",
     "status": "completed"
    },
    "tags": []
   },
   "outputs": [],
   "source": [
    "# As all the values in column are 1, hence dropping column\n",
    "df.drop('Mobile_phone', axis=1, inplace=True)"
   ]
  },
  {
   "cell_type": "code",
   "execution_count": 27,
   "id": "32737d2a",
   "metadata": {
    "execution": {
     "iopub.execute_input": "2024-03-18T12:47:19.037693Z",
     "iopub.status.busy": "2024-03-18T12:47:19.037337Z",
     "iopub.status.idle": "2024-03-18T12:47:19.044638Z",
     "shell.execute_reply": "2024-03-18T12:47:19.043869Z"
    },
    "papermill": {
     "duration": 0.032352,
     "end_time": "2024-03-18T12:47:19.046623",
     "exception": false,
     "start_time": "2024-03-18T12:47:19.014271",
     "status": "completed"
    },
    "tags": []
   },
   "outputs": [
    {
     "data": {
      "text/plain": [
       "Work_Phone\n",
       "0    1226\n",
       "1     322\n",
       "Name: count, dtype: int64"
      ]
     },
     "execution_count": 27,
     "metadata": {},
     "output_type": "execute_result"
    }
   ],
   "source": [
    "df['Work_Phone'].value_counts()"
   ]
  },
  {
   "cell_type": "code",
   "execution_count": 28,
   "id": "1819ef63",
   "metadata": {
    "execution": {
     "iopub.execute_input": "2024-03-18T12:47:19.092336Z",
     "iopub.status.busy": "2024-03-18T12:47:19.091488Z",
     "iopub.status.idle": "2024-03-18T12:47:19.097663Z",
     "shell.execute_reply": "2024-03-18T12:47:19.096556Z"
    },
    "papermill": {
     "duration": 0.032064,
     "end_time": "2024-03-18T12:47:19.099962",
     "exception": false,
     "start_time": "2024-03-18T12:47:19.067898",
     "status": "completed"
    },
    "tags": []
   },
   "outputs": [],
   "source": [
    "# This column only contains 0 & 1 values for Mobile no submitted, hence dropping column\n",
    "df.drop('Work_Phone', axis=1, inplace=True)"
   ]
  },
  {
   "cell_type": "code",
   "execution_count": 29,
   "id": "7b087b8b",
   "metadata": {
    "execution": {
     "iopub.execute_input": "2024-03-18T12:47:19.145637Z",
     "iopub.status.busy": "2024-03-18T12:47:19.145279Z",
     "iopub.status.idle": "2024-03-18T12:47:19.152369Z",
     "shell.execute_reply": "2024-03-18T12:47:19.151532Z"
    },
    "papermill": {
     "duration": 0.032492,
     "end_time": "2024-03-18T12:47:19.154357",
     "exception": false,
     "start_time": "2024-03-18T12:47:19.121865",
     "status": "completed"
    },
    "tags": []
   },
   "outputs": [
    {
     "data": {
      "text/plain": [
       "Phone\n",
       "0    1069\n",
       "1     479\n",
       "Name: count, dtype: int64"
      ]
     },
     "execution_count": 29,
     "metadata": {},
     "output_type": "execute_result"
    }
   ],
   "source": [
    "df['Phone'].value_counts()"
   ]
  },
  {
   "cell_type": "code",
   "execution_count": 30,
   "id": "76979d05",
   "metadata": {
    "execution": {
     "iopub.execute_input": "2024-03-18T12:47:19.199068Z",
     "iopub.status.busy": "2024-03-18T12:47:19.198593Z",
     "iopub.status.idle": "2024-03-18T12:47:19.205554Z",
     "shell.execute_reply": "2024-03-18T12:47:19.204734Z"
    },
    "papermill": {
     "duration": 0.031773,
     "end_time": "2024-03-18T12:47:19.207582",
     "exception": false,
     "start_time": "2024-03-18T12:47:19.175809",
     "status": "completed"
    },
    "tags": []
   },
   "outputs": [],
   "source": [
    "# This column only contains 0 & 1 values for Phone no submitted, hence dropping column\n",
    "df.drop('Phone', axis=1, inplace=True)"
   ]
  },
  {
   "cell_type": "code",
   "execution_count": 31,
   "id": "e55f1705",
   "metadata": {
    "execution": {
     "iopub.execute_input": "2024-03-18T12:47:19.253198Z",
     "iopub.status.busy": "2024-03-18T12:47:19.252520Z",
     "iopub.status.idle": "2024-03-18T12:47:19.260342Z",
     "shell.execute_reply": "2024-03-18T12:47:19.259304Z"
    },
    "papermill": {
     "duration": 0.032924,
     "end_time": "2024-03-18T12:47:19.262334",
     "exception": false,
     "start_time": "2024-03-18T12:47:19.229410",
     "status": "completed"
    },
    "tags": []
   },
   "outputs": [
    {
     "data": {
      "text/plain": [
       "EMAIL_ID\n",
       "0    1405\n",
       "1     143\n",
       "Name: count, dtype: int64"
      ]
     },
     "execution_count": 31,
     "metadata": {},
     "output_type": "execute_result"
    }
   ],
   "source": [
    "df['EMAIL_ID'].value_counts()"
   ]
  },
  {
   "cell_type": "code",
   "execution_count": 32,
   "id": "5caa28fd",
   "metadata": {
    "execution": {
     "iopub.execute_input": "2024-03-18T12:47:19.308015Z",
     "iopub.status.busy": "2024-03-18T12:47:19.307385Z",
     "iopub.status.idle": "2024-03-18T12:47:19.313148Z",
     "shell.execute_reply": "2024-03-18T12:47:19.312314Z"
    },
    "papermill": {
     "duration": 0.030859,
     "end_time": "2024-03-18T12:47:19.315228",
     "exception": false,
     "start_time": "2024-03-18T12:47:19.284369",
     "status": "completed"
    },
    "tags": []
   },
   "outputs": [],
   "source": [
    "# This column only contains 0 & 1 values for Email submitted, hence dropping column\n",
    "df.drop('EMAIL_ID', axis=1, inplace=True)"
   ]
  },
  {
   "cell_type": "code",
   "execution_count": 33,
   "id": "66dbe753",
   "metadata": {
    "execution": {
     "iopub.execute_input": "2024-03-18T12:47:19.360737Z",
     "iopub.status.busy": "2024-03-18T12:47:19.360122Z",
     "iopub.status.idle": "2024-03-18T12:47:19.367984Z",
     "shell.execute_reply": "2024-03-18T12:47:19.367026Z"
    },
    "papermill": {
     "duration": 0.032961,
     "end_time": "2024-03-18T12:47:19.370048",
     "exception": false,
     "start_time": "2024-03-18T12:47:19.337087",
     "status": "completed"
    },
    "tags": []
   },
   "outputs": [
    {
     "data": {
      "text/plain": [
       "Family_Members\n",
       "2     802\n",
       "1     334\n",
       "3     268\n",
       "4     127\n",
       "5      15\n",
       "6       1\n",
       "15      1\n",
       "Name: count, dtype: int64"
      ]
     },
     "execution_count": 33,
     "metadata": {},
     "output_type": "execute_result"
    }
   ],
   "source": [
    "df['Family_Members'].value_counts()"
   ]
  },
  {
   "cell_type": "code",
   "execution_count": 34,
   "id": "1d745585",
   "metadata": {
    "execution": {
     "iopub.execute_input": "2024-03-18T12:47:19.415591Z",
     "iopub.status.busy": "2024-03-18T12:47:19.415231Z",
     "iopub.status.idle": "2024-03-18T12:47:19.432028Z",
     "shell.execute_reply": "2024-03-18T12:47:19.431016Z"
    },
    "papermill": {
     "duration": 0.042368,
     "end_time": "2024-03-18T12:47:19.434218",
     "exception": false,
     "start_time": "2024-03-18T12:47:19.391850",
     "status": "completed"
    },
    "tags": []
   },
   "outputs": [
    {
     "data": {
      "text/html": [
       "<div>\n",
       "<style scoped>\n",
       "    .dataframe tbody tr th:only-of-type {\n",
       "        vertical-align: middle;\n",
       "    }\n",
       "\n",
       "    .dataframe tbody tr th {\n",
       "        vertical-align: top;\n",
       "    }\n",
       "\n",
       "    .dataframe thead th {\n",
       "        text-align: right;\n",
       "    }\n",
       "</style>\n",
       "<table border=\"1\" class=\"dataframe\">\n",
       "  <thead>\n",
       "    <tr style=\"text-align: right;\">\n",
       "      <th></th>\n",
       "      <th>Ind_ID</th>\n",
       "      <th>GENDER</th>\n",
       "      <th>Car_Owner</th>\n",
       "      <th>Propert_Owner</th>\n",
       "      <th>CHILDREN</th>\n",
       "      <th>Annual_income</th>\n",
       "      <th>Type_Income</th>\n",
       "      <th>EDUCATION</th>\n",
       "      <th>Marital_status</th>\n",
       "      <th>Housing_type</th>\n",
       "      <th>AGE_YEARS</th>\n",
       "      <th>YEARS_EMPLOYED</th>\n",
       "      <th>Family_Members</th>\n",
       "      <th>label</th>\n",
       "    </tr>\n",
       "  </thead>\n",
       "  <tbody>\n",
       "    <tr>\n",
       "      <th>0</th>\n",
       "      <td>5008827</td>\n",
       "      <td>M</td>\n",
       "      <td>Y</td>\n",
       "      <td>Y</td>\n",
       "      <td>0</td>\n",
       "      <td>180000.0</td>\n",
       "      <td>Pensioner</td>\n",
       "      <td>Higher education</td>\n",
       "      <td>Married</td>\n",
       "      <td>House / apartment</td>\n",
       "      <td>51.0</td>\n",
       "      <td>0.0</td>\n",
       "      <td>2</td>\n",
       "      <td>1</td>\n",
       "    </tr>\n",
       "    <tr>\n",
       "      <th>1</th>\n",
       "      <td>5009744</td>\n",
       "      <td>F</td>\n",
       "      <td>Y</td>\n",
       "      <td>N</td>\n",
       "      <td>0</td>\n",
       "      <td>315000.0</td>\n",
       "      <td>Commercial associate</td>\n",
       "      <td>Higher education</td>\n",
       "      <td>Married</td>\n",
       "      <td>House / apartment</td>\n",
       "      <td>37.0</td>\n",
       "      <td>2.0</td>\n",
       "      <td>2</td>\n",
       "      <td>1</td>\n",
       "    </tr>\n",
       "    <tr>\n",
       "      <th>2</th>\n",
       "      <td>5009746</td>\n",
       "      <td>F</td>\n",
       "      <td>Y</td>\n",
       "      <td>N</td>\n",
       "      <td>0</td>\n",
       "      <td>315000.0</td>\n",
       "      <td>Commercial associate</td>\n",
       "      <td>Higher education</td>\n",
       "      <td>Married</td>\n",
       "      <td>House / apartment</td>\n",
       "      <td>43.0</td>\n",
       "      <td>2.0</td>\n",
       "      <td>2</td>\n",
       "      <td>1</td>\n",
       "    </tr>\n",
       "    <tr>\n",
       "      <th>3</th>\n",
       "      <td>5009749</td>\n",
       "      <td>F</td>\n",
       "      <td>Y</td>\n",
       "      <td>N</td>\n",
       "      <td>0</td>\n",
       "      <td>166500.0</td>\n",
       "      <td>Commercial associate</td>\n",
       "      <td>Higher education</td>\n",
       "      <td>Married</td>\n",
       "      <td>House / apartment</td>\n",
       "      <td>37.0</td>\n",
       "      <td>2.0</td>\n",
       "      <td>2</td>\n",
       "      <td>1</td>\n",
       "    </tr>\n",
       "    <tr>\n",
       "      <th>4</th>\n",
       "      <td>5009752</td>\n",
       "      <td>F</td>\n",
       "      <td>Y</td>\n",
       "      <td>N</td>\n",
       "      <td>0</td>\n",
       "      <td>315000.0</td>\n",
       "      <td>Commercial associate</td>\n",
       "      <td>Higher education</td>\n",
       "      <td>Married</td>\n",
       "      <td>House / apartment</td>\n",
       "      <td>37.0</td>\n",
       "      <td>2.0</td>\n",
       "      <td>2</td>\n",
       "      <td>1</td>\n",
       "    </tr>\n",
       "  </tbody>\n",
       "</table>\n",
       "</div>"
      ],
      "text/plain": [
       "    Ind_ID GENDER Car_Owner Propert_Owner  CHILDREN  Annual_income  \\\n",
       "0  5008827      M         Y             Y         0       180000.0   \n",
       "1  5009744      F         Y             N         0       315000.0   \n",
       "2  5009746      F         Y             N         0       315000.0   \n",
       "3  5009749      F         Y             N         0       166500.0   \n",
       "4  5009752      F         Y             N         0       315000.0   \n",
       "\n",
       "            Type_Income         EDUCATION Marital_status       Housing_type  \\\n",
       "0             Pensioner  Higher education        Married  House / apartment   \n",
       "1  Commercial associate  Higher education        Married  House / apartment   \n",
       "2  Commercial associate  Higher education        Married  House / apartment   \n",
       "3  Commercial associate  Higher education        Married  House / apartment   \n",
       "4  Commercial associate  Higher education        Married  House / apartment   \n",
       "\n",
       "   AGE_YEARS  YEARS_EMPLOYED  Family_Members  label  \n",
       "0       51.0             0.0               2      1  \n",
       "1       37.0             2.0               2      1  \n",
       "2       43.0             2.0               2      1  \n",
       "3       37.0             2.0               2      1  \n",
       "4       37.0             2.0               2      1  "
      ]
     },
     "execution_count": 34,
     "metadata": {},
     "output_type": "execute_result"
    }
   ],
   "source": [
    "df.head()"
   ]
  },
  {
   "cell_type": "markdown",
   "id": "4f47d21a",
   "metadata": {
    "papermill": {
     "duration": 0.0219,
     "end_time": "2024-03-18T12:47:19.478264",
     "exception": false,
     "start_time": "2024-03-18T12:47:19.456364",
     "status": "completed"
    },
    "tags": []
   },
   "source": [
    "# Visualization"
   ]
  },
  {
   "cell_type": "code",
   "execution_count": 35,
   "id": "279f6e8d",
   "metadata": {
    "execution": {
     "iopub.execute_input": "2024-03-18T12:47:19.523988Z",
     "iopub.status.busy": "2024-03-18T12:47:19.523642Z",
     "iopub.status.idle": "2024-03-18T12:47:19.824007Z",
     "shell.execute_reply": "2024-03-18T12:47:19.822799Z"
    },
    "papermill": {
     "duration": 0.326287,
     "end_time": "2024-03-18T12:47:19.826518",
     "exception": false,
     "start_time": "2024-03-18T12:47:19.500231",
     "status": "completed"
    },
    "tags": []
   },
   "outputs": [
    {
     "data": {
      "text/plain": [
       "<Axes: >"
      ]
     },
     "execution_count": 35,
     "metadata": {},
     "output_type": "execute_result"
    },
    {
     "data": {
      "image/png": "[encoded data removed]",
      "text/plain": [
       "<Figure size 640x480 with 1 Axes>"
      ]
     },
     "metadata": {},
     "output_type": "display_data"
    }
   ],
   "source": [
    "#create plot to detect outliers\n",
    "sns.boxplot(df['CHILDREN'])"
   ]
  },
  {
   "cell_type": "code",
   "execution_count": 36,
   "id": "f984392a",
   "metadata": {
    "execution": {
     "iopub.execute_input": "2024-03-18T12:47:19.874953Z",
     "iopub.status.busy": "2024-03-18T12:47:19.874560Z",
     "iopub.status.idle": "2024-03-18T12:47:20.083307Z",
     "shell.execute_reply": "2024-03-18T12:47:20.082103Z"
    },
    "papermill": {
     "duration": 0.235864,
     "end_time": "2024-03-18T12:47:20.085809",
     "exception": false,
     "start_time": "2024-03-18T12:47:19.849945",
     "status": "completed"
    },
    "tags": []
   },
   "outputs": [
    {
     "data": {
      "text/plain": [
       "<Axes: >"
      ]
     },
     "execution_count": 36,
     "metadata": {},
     "output_type": "execute_result"
    },
    {
     "data": {
      "image/png": "[encoded data removed]",
      "text/plain": [
       "<Figure size 640x480 with 1 Axes>"
      ]
     },
     "metadata": {},
     "output_type": "display_data"
    }
   ],
   "source": [
    "sns.boxplot(df['Annual_income'])"
   ]
  },
  {
   "cell_type": "code",
   "execution_count": 37,
   "id": "77a58686",
   "metadata": {
    "execution": {
     "iopub.execute_input": "2024-03-18T12:47:20.133195Z",
     "iopub.status.busy": "2024-03-18T12:47:20.132757Z",
     "iopub.status.idle": "2024-03-18T12:47:20.324082Z",
     "shell.execute_reply": "2024-03-18T12:47:20.322580Z"
    },
    "papermill": {
     "duration": 0.218114,
     "end_time": "2024-03-18T12:47:20.326846",
     "exception": false,
     "start_time": "2024-03-18T12:47:20.108732",
     "status": "completed"
    },
    "tags": []
   },
   "outputs": [
    {
     "data": {
      "text/plain": [
       "<Axes: >"
      ]
     },
     "execution_count": 37,
     "metadata": {},
     "output_type": "execute_result"
    },
    {
     "data": {
      "image/png": "[encoded data removed]",
      "text/plain": [
       "<Figure size 640x480 with 1 Axes>"
      ]
     },
     "metadata": {},
     "output_type": "display_data"
    }
   ],
   "source": [
    "sns.boxplot(df['AGE_YEARS'])"
   ]
  },
  {
   "cell_type": "code",
   "execution_count": 38,
   "id": "64c79879",
   "metadata": {
    "execution": {
     "iopub.execute_input": "2024-03-18T12:47:20.377018Z",
     "iopub.status.busy": "2024-03-18T12:47:20.376612Z",
     "iopub.status.idle": "2024-03-18T12:47:20.558178Z",
     "shell.execute_reply": "2024-03-18T12:47:20.557064Z"
    },
    "papermill": {
     "duration": 0.2096,
     "end_time": "2024-03-18T12:47:20.560607",
     "exception": false,
     "start_time": "2024-03-18T12:47:20.351007",
     "status": "completed"
    },
    "tags": []
   },
   "outputs": [
    {
     "data": {
      "text/plain": [
       "<Axes: >"
      ]
     },
     "execution_count": 38,
     "metadata": {},
     "output_type": "execute_result"
    },
    {
     "data": {
      "image/png": "[encoded data removed]",
      "text/plain": [
       "<Figure size 640x480 with 1 Axes>"
      ]
     },
     "metadata": {},
     "output_type": "display_data"
    }
   ],
   "source": [
    "sns.boxplot(df['YEARS_EMPLOYED'])"
   ]
  },
  {
   "cell_type": "code",
   "execution_count": 39,
   "id": "695f2fa1",
   "metadata": {
    "execution": {
     "iopub.execute_input": "2024-03-18T12:47:20.610130Z",
     "iopub.status.busy": "2024-03-18T12:47:20.609348Z",
     "iopub.status.idle": "2024-03-18T12:47:20.808944Z",
     "shell.execute_reply": "2024-03-18T12:47:20.807906Z"
    },
    "papermill": {
     "duration": 0.226863,
     "end_time": "2024-03-18T12:47:20.811352",
     "exception": false,
     "start_time": "2024-03-18T12:47:20.584489",
     "status": "completed"
    },
    "tags": []
   },
   "outputs": [
    {
     "data": {
      "text/plain": [
       "<Axes: >"
      ]
     },
     "execution_count": 39,
     "metadata": {},
     "output_type": "execute_result"
    },
    {
     "data": {
      "image/png": "[encoded data removed]",
      "text/plain": [
       "<Figure size 640x480 with 1 Axes>"
      ]
     },
     "metadata": {},
     "output_type": "display_data"
    }
   ],
   "source": [
    "sns.boxplot(df['Family_Members'])"
   ]
  },
  {
   "cell_type": "markdown",
   "id": "ea3edeae",
   "metadata": {
    "papermill": {
     "duration": 0.025872,
     "end_time": "2024-03-18T12:47:20.861610",
     "exception": false,
     "start_time": "2024-03-18T12:47:20.835738",
     "status": "completed"
    },
    "tags": []
   },
   "source": [
    "# Removing Outliers"
   ]
  },
  {
   "cell_type": "code",
   "execution_count": 40,
   "id": "abdfe5ac",
   "metadata": {
    "execution": {
     "iopub.execute_input": "2024-03-18T12:47:20.911629Z",
     "iopub.status.busy": "2024-03-18T12:47:20.910538Z",
     "iopub.status.idle": "2024-03-18T12:47:20.919183Z",
     "shell.execute_reply": "2024-03-18T12:47:20.917887Z"
    },
    "papermill": {
     "duration": 0.035665,
     "end_time": "2024-03-18T12:47:20.921160",
     "exception": false,
     "start_time": "2024-03-18T12:47:20.885495",
     "status": "completed"
    },
    "tags": []
   },
   "outputs": [
    {
     "name": "stdout",
     "output_type": "stream",
     "text": [
      "high_bound : 3.45\n",
      "low_bound : 0.0\n"
     ]
    }
   ],
   "source": [
    "high_bound = df['CHILDREN'].quantile(0.999)\n",
    "print('high_bound :', round(high_bound,2))\n",
    "low_bound = df['CHILDREN'].quantile(0.001)\n",
    "print('low_bound :', low_bound)"
   ]
  },
  {
   "cell_type": "code",
   "execution_count": 41,
   "id": "36563043",
   "metadata": {
    "execution": {
     "iopub.execute_input": "2024-03-18T12:47:20.972819Z",
     "iopub.status.busy": "2024-03-18T12:47:20.971839Z",
     "iopub.status.idle": "2024-03-18T12:47:20.979290Z",
     "shell.execute_reply": "2024-03-18T12:47:20.978077Z"
    },
    "papermill": {
     "duration": 0.035382,
     "end_time": "2024-03-18T12:47:20.981902",
     "exception": false,
     "start_time": "2024-03-18T12:47:20.946520",
     "status": "completed"
    },
    "tags": []
   },
   "outputs": [],
   "source": [
    "df = df[(df['CHILDREN']>=low_bound) & (df['CHILDREN']<=high_bound)]"
   ]
  },
  {
   "cell_type": "code",
   "execution_count": 42,
   "id": "d747c601",
   "metadata": {
    "execution": {
     "iopub.execute_input": "2024-03-18T12:47:21.031990Z",
     "iopub.status.busy": "2024-03-18T12:47:21.031596Z",
     "iopub.status.idle": "2024-03-18T12:47:21.040328Z",
     "shell.execute_reply": "2024-03-18T12:47:21.039169Z"
    },
    "papermill": {
     "duration": 0.036208,
     "end_time": "2024-03-18T12:47:21.042432",
     "exception": false,
     "start_time": "2024-03-18T12:47:21.006224",
     "status": "completed"
    },
    "tags": []
   },
   "outputs": [
    {
     "name": "stdout",
     "output_type": "stream",
     "text": [
      "high_bound : 1207125.0\n",
      "low_bound : 36981.0\n"
     ]
    }
   ],
   "source": [
    "high_bound = df['Annual_income'].quantile(0.999)\n",
    "print('high_bound :', round(high_bound,0))\n",
    "low_bound = df['Annual_income'].quantile(0.001)\n",
    "print('low_bound :', low_bound)"
   ]
  },
  {
   "cell_type": "code",
   "execution_count": 43,
   "id": "56aab8f6",
   "metadata": {
    "execution": {
     "iopub.execute_input": "2024-03-18T12:47:21.091568Z",
     "iopub.status.busy": "2024-03-18T12:47:21.091134Z",
     "iopub.status.idle": "2024-03-18T12:47:21.098228Z",
     "shell.execute_reply": "2024-03-18T12:47:21.097178Z"
    },
    "papermill": {
     "duration": 0.034258,
     "end_time": "2024-03-18T12:47:21.100444",
     "exception": false,
     "start_time": "2024-03-18T12:47:21.066186",
     "status": "completed"
    },
    "tags": []
   },
   "outputs": [],
   "source": [
    "df = df[(df['Annual_income']>=low_bound) & (df['Annual_income']<=high_bound)]"
   ]
  },
  {
   "cell_type": "code",
   "execution_count": 44,
   "id": "2eeb96d3",
   "metadata": {
    "execution": {
     "iopub.execute_input": "2024-03-18T12:47:21.150791Z",
     "iopub.status.busy": "2024-03-18T12:47:21.149614Z",
     "iopub.status.idle": "2024-03-18T12:47:21.158005Z",
     "shell.execute_reply": "2024-03-18T12:47:21.157150Z"
    },
    "papermill": {
     "duration": 0.035394,
     "end_time": "2024-03-18T12:47:21.160015",
     "exception": false,
     "start_time": "2024-03-18T12:47:21.124621",
     "status": "completed"
    },
    "tags": []
   },
   "outputs": [
    {
     "name": "stdout",
     "output_type": "stream",
     "text": [
      "high_bound : 37.0\n",
      "low_bound : 0.0\n"
     ]
    }
   ],
   "source": [
    "high_bound = df['YEARS_EMPLOYED'].quantile(0.999)\n",
    "print('high_bound :', round(high_bound,0))\n",
    "low_bound = df['YEARS_EMPLOYED'].quantile(0.001)\n",
    "print('low_bound :', low_bound)"
   ]
  },
  {
   "cell_type": "code",
   "execution_count": 45,
   "id": "19897792",
   "metadata": {
    "execution": {
     "iopub.execute_input": "2024-03-18T12:47:21.217131Z",
     "iopub.status.busy": "2024-03-18T12:47:21.215969Z",
     "iopub.status.idle": "2024-03-18T12:47:21.222923Z",
     "shell.execute_reply": "2024-03-18T12:47:21.221967Z"
    },
    "papermill": {
     "duration": 0.039567,
     "end_time": "2024-03-18T12:47:21.225972",
     "exception": false,
     "start_time": "2024-03-18T12:47:21.186405",
     "status": "completed"
    },
    "tags": []
   },
   "outputs": [],
   "source": [
    "df = df[(df['YEARS_EMPLOYED']>=low_bound) & (df['YEARS_EMPLOYED']<=high_bound)]"
   ]
  },
  {
   "cell_type": "code",
   "execution_count": 46,
   "id": "460f6cae",
   "metadata": {
    "execution": {
     "iopub.execute_input": "2024-03-18T12:47:21.278201Z",
     "iopub.status.busy": "2024-03-18T12:47:21.277554Z",
     "iopub.status.idle": "2024-03-18T12:47:21.285317Z",
     "shell.execute_reply": "2024-03-18T12:47:21.284147Z"
    },
    "papermill": {
     "duration": 0.035905,
     "end_time": "2024-03-18T12:47:21.287730",
     "exception": false,
     "start_time": "2024-03-18T12:47:21.251825",
     "status": "completed"
    },
    "tags": []
   },
   "outputs": [
    {
     "name": "stdout",
     "output_type": "stream",
     "text": [
      "high_bound : 5.0\n",
      "low_bound : 1.0\n"
     ]
    }
   ],
   "source": [
    "high_bound = df['Family_Members'].quantile(0.999)\n",
    "print('high_bound :', high_bound)\n",
    "low_bound = df['Family_Members'].quantile(0.001)\n",
    "print('low_bound :', low_bound)"
   ]
  },
  {
   "cell_type": "code",
   "execution_count": 47,
   "id": "e4582a14",
   "metadata": {
    "execution": {
     "iopub.execute_input": "2024-03-18T12:47:21.355326Z",
     "iopub.status.busy": "2024-03-18T12:47:21.353856Z",
     "iopub.status.idle": "2024-03-18T12:47:21.361322Z",
     "shell.execute_reply": "2024-03-18T12:47:21.360195Z"
    },
    "papermill": {
     "duration": 0.047523,
     "end_time": "2024-03-18T12:47:21.364115",
     "exception": false,
     "start_time": "2024-03-18T12:47:21.316592",
     "status": "completed"
    },
    "tags": []
   },
   "outputs": [],
   "source": [
    "df = df[(df['Family_Members']>=low_bound) & (df['Family_Members']<=high_bound)]"
   ]
  },
  {
   "cell_type": "code",
   "execution_count": 48,
   "id": "77cffeeb",
   "metadata": {
    "execution": {
     "iopub.execute_input": "2024-03-18T12:47:21.420394Z",
     "iopub.status.busy": "2024-03-18T12:47:21.419699Z",
     "iopub.status.idle": "2024-03-18T12:47:21.435550Z",
     "shell.execute_reply": "2024-03-18T12:47:21.434781Z"
    },
    "papermill": {
     "duration": 0.044158,
     "end_time": "2024-03-18T12:47:21.437600",
     "exception": false,
     "start_time": "2024-03-18T12:47:21.393442",
     "status": "completed"
    },
    "tags": []
   },
   "outputs": [
    {
     "data": {
      "text/html": [
       "<div>\n",
       "<style scoped>\n",
       "    .dataframe tbody tr th:only-of-type {\n",
       "        vertical-align: middle;\n",
       "    }\n",
       "\n",
       "    .dataframe tbody tr th {\n",
       "        vertical-align: top;\n",
       "    }\n",
       "\n",
       "    .dataframe thead th {\n",
       "        text-align: right;\n",
       "    }\n",
       "</style>\n",
       "<table border=\"1\" class=\"dataframe\">\n",
       "  <thead>\n",
       "    <tr style=\"text-align: right;\">\n",
       "      <th></th>\n",
       "      <th>Ind_ID</th>\n",
       "      <th>GENDER</th>\n",
       "      <th>Car_Owner</th>\n",
       "      <th>Propert_Owner</th>\n",
       "      <th>CHILDREN</th>\n",
       "      <th>Annual_income</th>\n",
       "      <th>Type_Income</th>\n",
       "      <th>EDUCATION</th>\n",
       "      <th>Marital_status</th>\n",
       "      <th>Housing_type</th>\n",
       "      <th>AGE_YEARS</th>\n",
       "      <th>YEARS_EMPLOYED</th>\n",
       "      <th>Family_Members</th>\n",
       "      <th>label</th>\n",
       "    </tr>\n",
       "  </thead>\n",
       "  <tbody>\n",
       "    <tr>\n",
       "      <th>0</th>\n",
       "      <td>5008827</td>\n",
       "      <td>M</td>\n",
       "      <td>Y</td>\n",
       "      <td>Y</td>\n",
       "      <td>0</td>\n",
       "      <td>180000.0</td>\n",
       "      <td>Pensioner</td>\n",
       "      <td>Higher education</td>\n",
       "      <td>Married</td>\n",
       "      <td>House / apartment</td>\n",
       "      <td>51.0</td>\n",
       "      <td>0.0</td>\n",
       "      <td>2</td>\n",
       "      <td>1</td>\n",
       "    </tr>\n",
       "    <tr>\n",
       "      <th>1</th>\n",
       "      <td>5009744</td>\n",
       "      <td>F</td>\n",
       "      <td>Y</td>\n",
       "      <td>N</td>\n",
       "      <td>0</td>\n",
       "      <td>315000.0</td>\n",
       "      <td>Commercial associate</td>\n",
       "      <td>Higher education</td>\n",
       "      <td>Married</td>\n",
       "      <td>House / apartment</td>\n",
       "      <td>37.0</td>\n",
       "      <td>2.0</td>\n",
       "      <td>2</td>\n",
       "      <td>1</td>\n",
       "    </tr>\n",
       "    <tr>\n",
       "      <th>2</th>\n",
       "      <td>5009746</td>\n",
       "      <td>F</td>\n",
       "      <td>Y</td>\n",
       "      <td>N</td>\n",
       "      <td>0</td>\n",
       "      <td>315000.0</td>\n",
       "      <td>Commercial associate</td>\n",
       "      <td>Higher education</td>\n",
       "      <td>Married</td>\n",
       "      <td>House / apartment</td>\n",
       "      <td>43.0</td>\n",
       "      <td>2.0</td>\n",
       "      <td>2</td>\n",
       "      <td>1</td>\n",
       "    </tr>\n",
       "    <tr>\n",
       "      <th>3</th>\n",
       "      <td>5009749</td>\n",
       "      <td>F</td>\n",
       "      <td>Y</td>\n",
       "      <td>N</td>\n",
       "      <td>0</td>\n",
       "      <td>166500.0</td>\n",
       "      <td>Commercial associate</td>\n",
       "      <td>Higher education</td>\n",
       "      <td>Married</td>\n",
       "      <td>House / apartment</td>\n",
       "      <td>37.0</td>\n",
       "      <td>2.0</td>\n",
       "      <td>2</td>\n",
       "      <td>1</td>\n",
       "    </tr>\n",
       "    <tr>\n",
       "      <th>4</th>\n",
       "      <td>5009752</td>\n",
       "      <td>F</td>\n",
       "      <td>Y</td>\n",
       "      <td>N</td>\n",
       "      <td>0</td>\n",
       "      <td>315000.0</td>\n",
       "      <td>Commercial associate</td>\n",
       "      <td>Higher education</td>\n",
       "      <td>Married</td>\n",
       "      <td>House / apartment</td>\n",
       "      <td>37.0</td>\n",
       "      <td>2.0</td>\n",
       "      <td>2</td>\n",
       "      <td>1</td>\n",
       "    </tr>\n",
       "  </tbody>\n",
       "</table>\n",
       "</div>"
      ],
      "text/plain": [
       "    Ind_ID GENDER Car_Owner Propert_Owner  CHILDREN  Annual_income  \\\n",
       "0  5008827      M         Y             Y         0       180000.0   \n",
       "1  5009744      F         Y             N         0       315000.0   \n",
       "2  5009746      F         Y             N         0       315000.0   \n",
       "3  5009749      F         Y             N         0       166500.0   \n",
       "4  5009752      F         Y             N         0       315000.0   \n",
       "\n",
       "            Type_Income         EDUCATION Marital_status       Housing_type  \\\n",
       "0             Pensioner  Higher education        Married  House / apartment   \n",
       "1  Commercial associate  Higher education        Married  House / apartment   \n",
       "2  Commercial associate  Higher education        Married  House / apartment   \n",
       "3  Commercial associate  Higher education        Married  House / apartment   \n",
       "4  Commercial associate  Higher education        Married  House / apartment   \n",
       "\n",
       "   AGE_YEARS  YEARS_EMPLOYED  Family_Members  label  \n",
       "0       51.0             0.0               2      1  \n",
       "1       37.0             2.0               2      1  \n",
       "2       43.0             2.0               2      1  \n",
       "3       37.0             2.0               2      1  \n",
       "4       37.0             2.0               2      1  "
      ]
     },
     "execution_count": 48,
     "metadata": {},
     "output_type": "execute_result"
    }
   ],
   "source": [
    "df.head()"
   ]
  },
  {
   "cell_type": "code",
   "execution_count": 49,
   "id": "39dd2dd1",
   "metadata": {
    "execution": {
     "iopub.execute_input": "2024-03-18T12:47:21.495198Z",
     "iopub.status.busy": "2024-03-18T12:47:21.494401Z",
     "iopub.status.idle": "2024-03-18T12:47:21.501357Z",
     "shell.execute_reply": "2024-03-18T12:47:21.500371Z"
    },
    "papermill": {
     "duration": 0.04022,
     "end_time": "2024-03-18T12:47:21.503471",
     "exception": false,
     "start_time": "2024-03-18T12:47:21.463251",
     "status": "completed"
    },
    "tags": []
   },
   "outputs": [],
   "source": [
    "# dropping ''Ind_ID' column as it is having only unique values (not required for ML Model)\n",
    "df.drop('Ind_ID', axis=1, inplace=True)"
   ]
  },
  {
   "cell_type": "code",
   "execution_count": 50,
   "id": "f8813001",
   "metadata": {
    "execution": {
     "iopub.execute_input": "2024-03-18T12:47:21.561639Z",
     "iopub.status.busy": "2024-03-18T12:47:21.560710Z",
     "iopub.status.idle": "2024-03-18T12:47:21.576787Z",
     "shell.execute_reply": "2024-03-18T12:47:21.575678Z"
    },
    "papermill": {
     "duration": 0.045469,
     "end_time": "2024-03-18T12:47:21.579026",
     "exception": false,
     "start_time": "2024-03-18T12:47:21.533557",
     "status": "completed"
    },
    "tags": []
   },
   "outputs": [
    {
     "data": {
      "text/html": [
       "<div>\n",
       "<style scoped>\n",
       "    .dataframe tbody tr th:only-of-type {\n",
       "        vertical-align: middle;\n",
       "    }\n",
       "\n",
       "    .dataframe tbody tr th {\n",
       "        vertical-align: top;\n",
       "    }\n",
       "\n",
       "    .dataframe thead th {\n",
       "        text-align: right;\n",
       "    }\n",
       "</style>\n",
       "<table border=\"1\" class=\"dataframe\">\n",
       "  <thead>\n",
       "    <tr style=\"text-align: right;\">\n",
       "      <th></th>\n",
       "      <th>GENDER</th>\n",
       "      <th>Car_Owner</th>\n",
       "      <th>Propert_Owner</th>\n",
       "      <th>CHILDREN</th>\n",
       "      <th>Annual_income</th>\n",
       "      <th>Type_Income</th>\n",
       "      <th>EDUCATION</th>\n",
       "      <th>Marital_status</th>\n",
       "      <th>Housing_type</th>\n",
       "      <th>AGE_YEARS</th>\n",
       "      <th>YEARS_EMPLOYED</th>\n",
       "      <th>Family_Members</th>\n",
       "      <th>label</th>\n",
       "    </tr>\n",
       "  </thead>\n",
       "  <tbody>\n",
       "    <tr>\n",
       "      <th>0</th>\n",
       "      <td>M</td>\n",
       "      <td>Y</td>\n",
       "      <td>Y</td>\n",
       "      <td>0</td>\n",
       "      <td>180000.0</td>\n",
       "      <td>Pensioner</td>\n",
       "      <td>Higher education</td>\n",
       "      <td>Married</td>\n",
       "      <td>House / apartment</td>\n",
       "      <td>51.0</td>\n",
       "      <td>0.0</td>\n",
       "      <td>2</td>\n",
       "      <td>1</td>\n",
       "    </tr>\n",
       "    <tr>\n",
       "      <th>1</th>\n",
       "      <td>F</td>\n",
       "      <td>Y</td>\n",
       "      <td>N</td>\n",
       "      <td>0</td>\n",
       "      <td>315000.0</td>\n",
       "      <td>Commercial associate</td>\n",
       "      <td>Higher education</td>\n",
       "      <td>Married</td>\n",
       "      <td>House / apartment</td>\n",
       "      <td>37.0</td>\n",
       "      <td>2.0</td>\n",
       "      <td>2</td>\n",
       "      <td>1</td>\n",
       "    </tr>\n",
       "  </tbody>\n",
       "</table>\n",
       "</div>"
      ],
      "text/plain": [
       "  GENDER Car_Owner Propert_Owner  CHILDREN  Annual_income  \\\n",
       "0      M         Y             Y         0       180000.0   \n",
       "1      F         Y             N         0       315000.0   \n",
       "\n",
       "            Type_Income         EDUCATION Marital_status       Housing_type  \\\n",
       "0             Pensioner  Higher education        Married  House / apartment   \n",
       "1  Commercial associate  Higher education        Married  House / apartment   \n",
       "\n",
       "   AGE_YEARS  YEARS_EMPLOYED  Family_Members  label  \n",
       "0       51.0             0.0               2      1  \n",
       "1       37.0             2.0               2      1  "
      ]
     },
     "execution_count": 50,
     "metadata": {},
     "output_type": "execute_result"
    }
   ],
   "source": [
    "df.head(2)"
   ]
  },
  {
   "cell_type": "code",
   "execution_count": 51,
   "id": "d38d9eba",
   "metadata": {
    "execution": {
     "iopub.execute_input": "2024-03-18T12:47:21.631455Z",
     "iopub.status.busy": "2024-03-18T12:47:21.629731Z",
     "iopub.status.idle": "2024-03-18T12:47:21.770210Z",
     "shell.execute_reply": "2024-03-18T12:47:21.759106Z"
    },
    "papermill": {
     "duration": 0.171941,
     "end_time": "2024-03-18T12:47:21.775316",
     "exception": false,
     "start_time": "2024-03-18T12:47:21.603375",
     "status": "completed"
    },
    "tags": []
   },
   "outputs": [
    {
     "data": {
      "image/png": "[encoded data removed]",
      "text/plain": [
       "<Figure size 640x480 with 1 Axes>"
      ]
     },
     "metadata": {},
     "output_type": "display_data"
    }
   ],
   "source": [
    "# This graph shows that, majority of application are submitted by Female's\n",
    "plt.pie(df['GENDER'].value_counts(), labels=['Female', 'Male'], autopct='%1.2f%%')\n",
    "plt.title('% of Applications submitted based on Gender')\n",
    "plt.show()"
   ]
  },
  {
   "cell_type": "code",
   "execution_count": 52,
   "id": "eec74043",
   "metadata": {
    "execution": {
     "iopub.execute_input": "2024-03-18T12:47:21.854394Z",
     "iopub.status.busy": "2024-03-18T12:47:21.852716Z",
     "iopub.status.idle": "2024-03-18T12:47:21.968342Z",
     "shell.execute_reply": "2024-03-18T12:47:21.966839Z"
    },
    "papermill": {
     "duration": 0.150956,
     "end_time": "2024-03-18T12:47:21.971945",
     "exception": false,
     "start_time": "2024-03-18T12:47:21.820989",
     "status": "completed"
    },
    "tags": []
   },
   "outputs": [
    {
     "data": {
      "image/png": "[encoded data removed]",
      "text/plain": [
       "<Figure size 640x480 with 1 Axes>"
      ]
     },
     "metadata": {},
     "output_type": "display_data"
    }
   ],
   "source": [
    "# This graph shows that, majority of application are approved for Female's\n",
    "plt.pie(df[df['label']==0]['GENDER'].value_counts(), labels=['Female', 'Male'], autopct='%1.2f%%')\n",
    "plt.title('% of Applications Approved based on Gender')\n",
    "plt.show()"
   ]
  },
  {
   "cell_type": "code",
   "execution_count": 53,
   "id": "01e23e28",
   "metadata": {
    "execution": {
     "iopub.execute_input": "2024-03-18T12:47:22.054287Z",
     "iopub.status.busy": "2024-03-18T12:47:22.053598Z",
     "iopub.status.idle": "2024-03-18T12:47:22.171126Z",
     "shell.execute_reply": "2024-03-18T12:47:22.169935Z"
    },
    "papermill": {
     "duration": 0.158351,
     "end_time": "2024-03-18T12:47:22.174118",
     "exception": false,
     "start_time": "2024-03-18T12:47:22.015767",
     "status": "completed"
    },
    "tags": []
   },
   "outputs": [
    {
     "data": {
      "image/png": "[encoded data removed]",
      "text/plain": [
       "<Figure size 640x480 with 1 Axes>"
      ]
     },
     "metadata": {},
     "output_type": "display_data"
    }
   ],
   "source": [
    "# This graph shows that, majority of applicatant's dont own a car\n",
    "plt.pie(df['Car_Owner'].value_counts(), labels=['No', 'Yes'], autopct='%1.2f%%')\n",
    "plt.title('% of Applications submitted based on owning a Car')\n",
    "plt.show()"
   ]
  },
  {
   "cell_type": "code",
   "execution_count": 54,
   "id": "1c84bdeb",
   "metadata": {
    "execution": {
     "iopub.execute_input": "2024-03-18T12:47:22.257205Z",
     "iopub.status.busy": "2024-03-18T12:47:22.256762Z",
     "iopub.status.idle": "2024-03-18T12:47:22.393252Z",
     "shell.execute_reply": "2024-03-18T12:47:22.392033Z"
    },
    "papermill": {
     "duration": 0.17567,
     "end_time": "2024-03-18T12:47:22.396260",
     "exception": false,
     "start_time": "2024-03-18T12:47:22.220590",
     "status": "completed"
    },
    "tags": []
   },
   "outputs": [
    {
     "data": {
      "image/png": "[encoded data removed]",
      "text/plain": [
       "<Figure size 640x480 with 1 Axes>"
      ]
     },
     "metadata": {},
     "output_type": "display_data"
    }
   ],
   "source": [
    "# This graph shows that, majority of applicatant's own a Real Estate property / House\n",
    "plt.pie(df['Propert_Owner'].value_counts(), labels=['Yes','No'], autopct='%1.2f%%')\n",
    "plt.title('% of Applications submitted based on owning a Real estate property')\n",
    "plt.show()"
   ]
  },
  {
   "cell_type": "code",
   "execution_count": 55,
   "id": "4e1ee0d7",
   "metadata": {
    "execution": {
     "iopub.execute_input": "2024-03-18T12:47:22.477070Z",
     "iopub.status.busy": "2024-03-18T12:47:22.476124Z",
     "iopub.status.idle": "2024-03-18T12:47:22.694286Z",
     "shell.execute_reply": "2024-03-18T12:47:22.693153Z"
    },
    "papermill": {
     "duration": 0.249281,
     "end_time": "2024-03-18T12:47:22.697198",
     "exception": false,
     "start_time": "2024-03-18T12:47:22.447917",
     "status": "completed"
    },
    "tags": []
   },
   "outputs": [
    {
     "data": {
      "image/png": "[encoded data removed]",
      "text/plain": [
       "<Figure size 800x800 with 1 Axes>"
      ]
     },
     "metadata": {},
     "output_type": "display_data"
    }
   ],
   "source": [
    "# This graph shows that, majority of applicatant's don't have any children\n",
    "plt.figure(figsize = (8,8))\n",
    "plt.pie(df['CHILDREN'].value_counts(), labels=df['CHILDREN'].value_counts().index, autopct='%1.2f%%')\n",
    "plt.title('% of Applications submitted based on Children count')\n",
    "plt.legend()\n",
    "plt.show()"
   ]
  },
  {
   "cell_type": "code",
   "execution_count": 56,
   "id": "243e441f",
   "metadata": {
    "execution": {
     "iopub.execute_input": "2024-03-18T12:47:22.759263Z",
     "iopub.status.busy": "2024-03-18T12:47:22.758855Z",
     "iopub.status.idle": "2024-03-18T12:47:23.054622Z",
     "shell.execute_reply": "2024-03-18T12:47:23.053351Z"
    },
    "papermill": {
     "duration": 0.331187,
     "end_time": "2024-03-18T12:47:23.057114",
     "exception": false,
     "start_time": "2024-03-18T12:47:22.725927",
     "status": "completed"
    },
    "tags": []
   },
   "outputs": [
    {
     "data": {
      "image/png": "[encoded data removed]",
      "text/plain": [
       "<Figure size 640x480 with 1 Axes>"
      ]
     },
     "metadata": {},
     "output_type": "display_data"
    }
   ],
   "source": [
    "# This graph shows that, majority of applicatant's income lies between 1 to 3 lakh\n",
    "plt.hist(df['Annual_income'], bins=20)\n",
    "plt.xlabel('Total Annual Income')\n",
    "plt.title('Histogram')\n",
    "plt.show()"
   ]
  },
  {
   "cell_type": "code",
   "execution_count": 57,
   "id": "8fdc0607",
   "metadata": {
    "execution": {
     "iopub.execute_input": "2024-03-18T12:47:23.115146Z",
     "iopub.status.busy": "2024-03-18T12:47:23.114079Z",
     "iopub.status.idle": "2024-03-18T12:47:23.363605Z",
     "shell.execute_reply": "2024-03-18T12:47:23.362421Z"
    },
    "papermill": {
     "duration": 0.281447,
     "end_time": "2024-03-18T12:47:23.366027",
     "exception": false,
     "start_time": "2024-03-18T12:47:23.084580",
     "status": "completed"
    },
    "tags": []
   },
   "outputs": [
    {
     "data": {
      "image/png": "[encoded data removed]",
      "text/plain": [
       "<Figure size 800x800 with 1 Axes>"
      ]
     },
     "metadata": {},
     "output_type": "display_data"
    }
   ],
   "source": [
    "# This graph shows that, majority of applicatant's are working professional\n",
    "plt.figure(figsize = (8,8))\n",
    "plt.pie(df['Type_Income'].value_counts(), labels=df['Type_Income'].value_counts().index, autopct='%1.2f%%')\n",
    "plt.title('% of Applications submitted based on Income Type')\n",
    "plt.legend()\n",
    "plt.show()"
   ]
  },
  {
   "cell_type": "code",
   "execution_count": 58,
   "id": "ce6cc27c",
   "metadata": {
    "execution": {
     "iopub.execute_input": "2024-03-18T12:47:23.425472Z",
     "iopub.status.busy": "2024-03-18T12:47:23.425005Z",
     "iopub.status.idle": "2024-03-18T12:47:23.696272Z",
     "shell.execute_reply": "2024-03-18T12:47:23.695411Z"
    },
    "papermill": {
     "duration": 0.303634,
     "end_time": "2024-03-18T12:47:23.698575",
     "exception": false,
     "start_time": "2024-03-18T12:47:23.394941",
     "status": "completed"
    },
    "tags": []
   },
   "outputs": [
    {
     "data": {
      "image/png": "[encoded data removed]",
      "text/plain": [
       "<Figure size 800x800 with 1 Axes>"
      ]
     },
     "metadata": {},
     "output_type": "display_data"
    }
   ],
   "source": [
    "# This graph shows that, majority of applicatant's completed the Secondary Education\n",
    "plt.figure(figsize=(8,8))\n",
    "plt.pie(df['EDUCATION'].value_counts(), labels=df['EDUCATION'].value_counts().index, autopct='%1.2f%%')\n",
    "plt.title('% of Applications submitted based on Education')\n",
    "plt.legend()\n",
    "plt.show()"
   ]
  },
  {
   "cell_type": "code",
   "execution_count": 59,
   "id": "972bfa4c",
   "metadata": {
    "execution": {
     "iopub.execute_input": "2024-03-18T12:47:23.759151Z",
     "iopub.status.busy": "2024-03-18T12:47:23.758453Z",
     "iopub.status.idle": "2024-03-18T12:47:24.029637Z",
     "shell.execute_reply": "2024-03-18T12:47:24.028597Z"
    },
    "papermill": {
     "duration": 0.304356,
     "end_time": "2024-03-18T12:47:24.031906",
     "exception": false,
     "start_time": "2024-03-18T12:47:23.727550",
     "status": "completed"
    },
    "tags": []
   },
   "outputs": [
    {
     "data": {
      "image/png": "[encoded data removed]",
      "text/plain": [
       "<Figure size 640x480 with 1 Axes>"
      ]
     },
     "metadata": {},
     "output_type": "display_data"
    }
   ],
   "source": [
    "# This graph shows that, majority of applicatant's are 25 to 65 years old\n",
    "plt.hist(df['AGE_YEARS'], bins=20)\n",
    "plt.xlabel('Age')\n",
    "plt.title('Histogram')\n",
    "plt.show()"
   ]
  },
  {
   "cell_type": "code",
   "execution_count": 60,
   "id": "11d0e878",
   "metadata": {
    "execution": {
     "iopub.execute_input": "2024-03-18T12:47:24.092478Z",
     "iopub.status.busy": "2024-03-18T12:47:24.092078Z",
     "iopub.status.idle": "2024-03-18T12:47:24.366219Z",
     "shell.execute_reply": "2024-03-18T12:47:24.365159Z"
    },
    "papermill": {
     "duration": 0.307482,
     "end_time": "2024-03-18T12:47:24.368679",
     "exception": false,
     "start_time": "2024-03-18T12:47:24.061197",
     "status": "completed"
    },
    "tags": []
   },
   "outputs": [
    {
     "data": {
      "image/png": "[encoded data removed]",
      "text/plain": [
       "<Figure size 640x480 with 1 Axes>"
      ]
     },
     "metadata": {},
     "output_type": "display_data"
    }
   ],
   "source": [
    "# This graph shows that, majority of applicatant's are Employed for 0 to 7 years\n",
    "plt.hist(df['YEARS_EMPLOYED'], bins=20)\n",
    "plt.xlabel('No of Years Employed')\n",
    "plt.title('Histogram')\n",
    "plt.show()"
   ]
  },
  {
   "cell_type": "markdown",
   "id": "799360e6",
   "metadata": {
    "papermill": {
     "duration": 0.029476,
     "end_time": "2024-03-18T12:47:24.427744",
     "exception": false,
     "start_time": "2024-03-18T12:47:24.398268",
     "status": "completed"
    },
    "tags": []
   },
   "source": [
    "# Feature Selection"
   ]
  },
  {
   "cell_type": "code",
   "execution_count": 61,
   "id": "b5d779da",
   "metadata": {
    "execution": {
     "iopub.execute_input": "2024-03-18T12:47:24.488921Z",
     "iopub.status.busy": "2024-03-18T12:47:24.488552Z",
     "iopub.status.idle": "2024-03-18T12:47:24.505841Z",
     "shell.execute_reply": "2024-03-18T12:47:24.504782Z"
    },
    "papermill": {
     "duration": 0.050646,
     "end_time": "2024-03-18T12:47:24.508044",
     "exception": false,
     "start_time": "2024-03-18T12:47:24.457398",
     "status": "completed"
    },
    "tags": []
   },
   "outputs": [
    {
     "data": {
      "text/html": [
       "<div>\n",
       "<style scoped>\n",
       "    .dataframe tbody tr th:only-of-type {\n",
       "        vertical-align: middle;\n",
       "    }\n",
       "\n",
       "    .dataframe tbody tr th {\n",
       "        vertical-align: top;\n",
       "    }\n",
       "\n",
       "    .dataframe thead th {\n",
       "        text-align: right;\n",
       "    }\n",
       "</style>\n",
       "<table border=\"1\" class=\"dataframe\">\n",
       "  <thead>\n",
       "    <tr style=\"text-align: right;\">\n",
       "      <th></th>\n",
       "      <th>GENDER</th>\n",
       "      <th>Car_Owner</th>\n",
       "      <th>Propert_Owner</th>\n",
       "      <th>CHILDREN</th>\n",
       "      <th>Annual_income</th>\n",
       "      <th>Type_Income</th>\n",
       "      <th>EDUCATION</th>\n",
       "      <th>Marital_status</th>\n",
       "      <th>Housing_type</th>\n",
       "      <th>AGE_YEARS</th>\n",
       "      <th>YEARS_EMPLOYED</th>\n",
       "      <th>Family_Members</th>\n",
       "      <th>label</th>\n",
       "    </tr>\n",
       "  </thead>\n",
       "  <tbody>\n",
       "    <tr>\n",
       "      <th>0</th>\n",
       "      <td>M</td>\n",
       "      <td>Y</td>\n",
       "      <td>Y</td>\n",
       "      <td>0</td>\n",
       "      <td>180000.0</td>\n",
       "      <td>Pensioner</td>\n",
       "      <td>Higher education</td>\n",
       "      <td>Married</td>\n",
       "      <td>House / apartment</td>\n",
       "      <td>51.0</td>\n",
       "      <td>0.0</td>\n",
       "      <td>2</td>\n",
       "      <td>1</td>\n",
       "    </tr>\n",
       "    <tr>\n",
       "      <th>1</th>\n",
       "      <td>F</td>\n",
       "      <td>Y</td>\n",
       "      <td>N</td>\n",
       "      <td>0</td>\n",
       "      <td>315000.0</td>\n",
       "      <td>Commercial associate</td>\n",
       "      <td>Higher education</td>\n",
       "      <td>Married</td>\n",
       "      <td>House / apartment</td>\n",
       "      <td>37.0</td>\n",
       "      <td>2.0</td>\n",
       "      <td>2</td>\n",
       "      <td>1</td>\n",
       "    </tr>\n",
       "    <tr>\n",
       "      <th>2</th>\n",
       "      <td>F</td>\n",
       "      <td>Y</td>\n",
       "      <td>N</td>\n",
       "      <td>0</td>\n",
       "      <td>315000.0</td>\n",
       "      <td>Commercial associate</td>\n",
       "      <td>Higher education</td>\n",
       "      <td>Married</td>\n",
       "      <td>House / apartment</td>\n",
       "      <td>43.0</td>\n",
       "      <td>2.0</td>\n",
       "      <td>2</td>\n",
       "      <td>1</td>\n",
       "    </tr>\n",
       "    <tr>\n",
       "      <th>3</th>\n",
       "      <td>F</td>\n",
       "      <td>Y</td>\n",
       "      <td>N</td>\n",
       "      <td>0</td>\n",
       "      <td>166500.0</td>\n",
       "      <td>Commercial associate</td>\n",
       "      <td>Higher education</td>\n",
       "      <td>Married</td>\n",
       "      <td>House / apartment</td>\n",
       "      <td>37.0</td>\n",
       "      <td>2.0</td>\n",
       "      <td>2</td>\n",
       "      <td>1</td>\n",
       "    </tr>\n",
       "    <tr>\n",
       "      <th>4</th>\n",
       "      <td>F</td>\n",
       "      <td>Y</td>\n",
       "      <td>N</td>\n",
       "      <td>0</td>\n",
       "      <td>315000.0</td>\n",
       "      <td>Commercial associate</td>\n",
       "      <td>Higher education</td>\n",
       "      <td>Married</td>\n",
       "      <td>House / apartment</td>\n",
       "      <td>37.0</td>\n",
       "      <td>2.0</td>\n",
       "      <td>2</td>\n",
       "      <td>1</td>\n",
       "    </tr>\n",
       "  </tbody>\n",
       "</table>\n",
       "</div>"
      ],
      "text/plain": [
       "  GENDER Car_Owner Propert_Owner  CHILDREN  Annual_income  \\\n",
       "0      M         Y             Y         0       180000.0   \n",
       "1      F         Y             N         0       315000.0   \n",
       "2      F         Y             N         0       315000.0   \n",
       "3      F         Y             N         0       166500.0   \n",
       "4      F         Y             N         0       315000.0   \n",
       "\n",
       "            Type_Income         EDUCATION Marital_status       Housing_type  \\\n",
       "0             Pensioner  Higher education        Married  House / apartment   \n",
       "1  Commercial associate  Higher education        Married  House / apartment   \n",
       "2  Commercial associate  Higher education        Married  House / apartment   \n",
       "3  Commercial associate  Higher education        Married  House / apartment   \n",
       "4  Commercial associate  Higher education        Married  House / apartment   \n",
       "\n",
       "   AGE_YEARS  YEARS_EMPLOYED  Family_Members  label  \n",
       "0       51.0             0.0               2      1  \n",
       "1       37.0             2.0               2      1  \n",
       "2       43.0             2.0               2      1  \n",
       "3       37.0             2.0               2      1  \n",
       "4       37.0             2.0               2      1  "
      ]
     },
     "execution_count": 61,
     "metadata": {},
     "output_type": "execute_result"
    }
   ],
   "source": [
    "df.head()"
   ]
  },
  {
   "cell_type": "code",
   "execution_count": 62,
   "id": "c1f51484",
   "metadata": {
    "execution": {
     "iopub.execute_input": "2024-03-18T12:47:24.571296Z",
     "iopub.status.busy": "2024-03-18T12:47:24.570895Z",
     "iopub.status.idle": "2024-03-18T12:47:24.577538Z",
     "shell.execute_reply": "2024-03-18T12:47:24.576476Z"
    },
    "papermill": {
     "duration": 0.041465,
     "end_time": "2024-03-18T12:47:24.579595",
     "exception": false,
     "start_time": "2024-03-18T12:47:24.538130",
     "status": "completed"
    },
    "tags": []
   },
   "outputs": [
    {
     "data": {
      "text/plain": [
       "['GENDER',\n",
       " 'Car_Owner',\n",
       " 'Propert_Owner',\n",
       " 'Type_Income',\n",
       " 'EDUCATION',\n",
       " 'Marital_status',\n",
       " 'Housing_type']"
      ]
     },
     "execution_count": 62,
     "metadata": {},
     "output_type": "execute_result"
    }
   ],
   "source": [
    "cat_columns"
   ]
  },
  {
   "cell_type": "code",
   "execution_count": 63,
   "id": "8b3d2542",
   "metadata": {
    "execution": {
     "iopub.execute_input": "2024-03-18T12:47:24.642654Z",
     "iopub.status.busy": "2024-03-18T12:47:24.641571Z",
     "iopub.status.idle": "2024-03-18T12:47:24.809163Z",
     "shell.execute_reply": "2024-03-18T12:47:24.808144Z"
    },
    "papermill": {
     "duration": 0.201756,
     "end_time": "2024-03-18T12:47:24.811439",
     "exception": false,
     "start_time": "2024-03-18T12:47:24.609683",
     "status": "completed"
    },
    "tags": []
   },
   "outputs": [
    {
     "data": {
      "text/html": [
       "<div>\n",
       "<style scoped>\n",
       "    .dataframe tbody tr th:only-of-type {\n",
       "        vertical-align: middle;\n",
       "    }\n",
       "\n",
       "    .dataframe tbody tr th {\n",
       "        vertical-align: top;\n",
       "    }\n",
       "\n",
       "    .dataframe thead th {\n",
       "        text-align: right;\n",
       "    }\n",
       "</style>\n",
       "<table border=\"1\" class=\"dataframe\">\n",
       "  <thead>\n",
       "    <tr style=\"text-align: right;\">\n",
       "      <th></th>\n",
       "      <th>GENDER</th>\n",
       "      <th>Car_Owner</th>\n",
       "      <th>Propert_Owner</th>\n",
       "      <th>CHILDREN</th>\n",
       "      <th>Annual_income</th>\n",
       "      <th>Type_Income</th>\n",
       "      <th>EDUCATION</th>\n",
       "      <th>Marital_status</th>\n",
       "      <th>Housing_type</th>\n",
       "      <th>AGE_YEARS</th>\n",
       "      <th>YEARS_EMPLOYED</th>\n",
       "      <th>Family_Members</th>\n",
       "      <th>label</th>\n",
       "    </tr>\n",
       "  </thead>\n",
       "  <tbody>\n",
       "    <tr>\n",
       "      <th>0</th>\n",
       "      <td>1</td>\n",
       "      <td>1</td>\n",
       "      <td>1</td>\n",
       "      <td>0</td>\n",
       "      <td>180000.0</td>\n",
       "      <td>1</td>\n",
       "      <td>1</td>\n",
       "      <td>1</td>\n",
       "      <td>1</td>\n",
       "      <td>51.0</td>\n",
       "      <td>0.0</td>\n",
       "      <td>2</td>\n",
       "      <td>1</td>\n",
       "    </tr>\n",
       "    <tr>\n",
       "      <th>1</th>\n",
       "      <td>0</td>\n",
       "      <td>1</td>\n",
       "      <td>0</td>\n",
       "      <td>0</td>\n",
       "      <td>315000.0</td>\n",
       "      <td>0</td>\n",
       "      <td>1</td>\n",
       "      <td>1</td>\n",
       "      <td>1</td>\n",
       "      <td>37.0</td>\n",
       "      <td>2.0</td>\n",
       "      <td>2</td>\n",
       "      <td>1</td>\n",
       "    </tr>\n",
       "    <tr>\n",
       "      <th>2</th>\n",
       "      <td>0</td>\n",
       "      <td>1</td>\n",
       "      <td>0</td>\n",
       "      <td>0</td>\n",
       "      <td>315000.0</td>\n",
       "      <td>0</td>\n",
       "      <td>1</td>\n",
       "      <td>1</td>\n",
       "      <td>1</td>\n",
       "      <td>43.0</td>\n",
       "      <td>2.0</td>\n",
       "      <td>2</td>\n",
       "      <td>1</td>\n",
       "    </tr>\n",
       "    <tr>\n",
       "      <th>3</th>\n",
       "      <td>0</td>\n",
       "      <td>1</td>\n",
       "      <td>0</td>\n",
       "      <td>0</td>\n",
       "      <td>166500.0</td>\n",
       "      <td>0</td>\n",
       "      <td>1</td>\n",
       "      <td>1</td>\n",
       "      <td>1</td>\n",
       "      <td>37.0</td>\n",
       "      <td>2.0</td>\n",
       "      <td>2</td>\n",
       "      <td>1</td>\n",
       "    </tr>\n",
       "    <tr>\n",
       "      <th>4</th>\n",
       "      <td>0</td>\n",
       "      <td>1</td>\n",
       "      <td>0</td>\n",
       "      <td>0</td>\n",
       "      <td>315000.0</td>\n",
       "      <td>0</td>\n",
       "      <td>1</td>\n",
       "      <td>1</td>\n",
       "      <td>1</td>\n",
       "      <td>37.0</td>\n",
       "      <td>2.0</td>\n",
       "      <td>2</td>\n",
       "      <td>1</td>\n",
       "    </tr>\n",
       "  </tbody>\n",
       "</table>\n",
       "</div>"
      ],
      "text/plain": [
       "   GENDER  Car_Owner  Propert_Owner  CHILDREN  Annual_income  Type_Income  \\\n",
       "0       1          1              1         0       180000.0            1   \n",
       "1       0          1              0         0       315000.0            0   \n",
       "2       0          1              0         0       315000.0            0   \n",
       "3       0          1              0         0       166500.0            0   \n",
       "4       0          1              0         0       315000.0            0   \n",
       "\n",
       "   EDUCATION  Marital_status  Housing_type  AGE_YEARS  YEARS_EMPLOYED  \\\n",
       "0          1               1             1       51.0             0.0   \n",
       "1          1               1             1       37.0             2.0   \n",
       "2          1               1             1       43.0             2.0   \n",
       "3          1               1             1       37.0             2.0   \n",
       "4          1               1             1       37.0             2.0   \n",
       "\n",
       "   Family_Members  label  \n",
       "0               2      1  \n",
       "1               2      1  \n",
       "2               2      1  \n",
       "3               2      1  \n",
       "4               2      1  "
      ]
     },
     "execution_count": 63,
     "metadata": {},
     "output_type": "execute_result"
    }
   ],
   "source": [
    "#Converting all Non-Numerical Columns to Numerical\n",
    "from sklearn.preprocessing import LabelEncoder\n",
    "le = LabelEncoder()\n",
    "\n",
    "for col in cat_columns:\n",
    "\n",
    "        df[col] = le.fit_transform(df[col])\n",
    "df.head()"
   ]
  },
  {
   "cell_type": "code",
   "execution_count": 64,
   "id": "184ea346",
   "metadata": {
    "execution": {
     "iopub.execute_input": "2024-03-18T12:47:24.875751Z",
     "iopub.status.busy": "2024-03-18T12:47:24.875041Z",
     "iopub.status.idle": "2024-03-18T12:47:24.897554Z",
     "shell.execute_reply": "2024-03-18T12:47:24.896355Z"
    },
    "papermill": {
     "duration": 0.057483,
     "end_time": "2024-03-18T12:47:24.900089",
     "exception": false,
     "start_time": "2024-03-18T12:47:24.842606",
     "status": "completed"
    },
    "tags": []
   },
   "outputs": [
    {
     "data": {
      "text/html": [
       "<div>\n",
       "<style scoped>\n",
       "    .dataframe tbody tr th:only-of-type {\n",
       "        vertical-align: middle;\n",
       "    }\n",
       "\n",
       "    .dataframe tbody tr th {\n",
       "        vertical-align: top;\n",
       "    }\n",
       "\n",
       "    .dataframe thead th {\n",
       "        text-align: right;\n",
       "    }\n",
       "</style>\n",
       "<table border=\"1\" class=\"dataframe\">\n",
       "  <thead>\n",
       "    <tr style=\"text-align: right;\">\n",
       "      <th></th>\n",
       "      <th>GENDER</th>\n",
       "      <th>Car_Owner</th>\n",
       "      <th>Propert_Owner</th>\n",
       "      <th>CHILDREN</th>\n",
       "      <th>Annual_income</th>\n",
       "      <th>Type_Income</th>\n",
       "      <th>EDUCATION</th>\n",
       "      <th>Marital_status</th>\n",
       "      <th>Housing_type</th>\n",
       "      <th>AGE_YEARS</th>\n",
       "      <th>YEARS_EMPLOYED</th>\n",
       "      <th>Family_Members</th>\n",
       "      <th>label</th>\n",
       "    </tr>\n",
       "  </thead>\n",
       "  <tbody>\n",
       "    <tr>\n",
       "      <th>GENDER</th>\n",
       "      <td>1.000000</td>\n",
       "      <td>0.365611</td>\n",
       "      <td>-0.036763</td>\n",
       "      <td>0.058262</td>\n",
       "      <td>0.245137</td>\n",
       "      <td>0.057994</td>\n",
       "      <td>-0.038062</td>\n",
       "      <td>-0.119800</td>\n",
       "      <td>0.080975</td>\n",
       "      <td>-0.186855</td>\n",
       "      <td>-0.028795</td>\n",
       "      <td>0.096368</td>\n",
       "      <td>0.047008</td>\n",
       "    </tr>\n",
       "    <tr>\n",
       "      <th>Car_Owner</th>\n",
       "      <td>0.365611</td>\n",
       "      <td>1.000000</td>\n",
       "      <td>0.002202</td>\n",
       "      <td>0.057910</td>\n",
       "      <td>0.210975</td>\n",
       "      <td>0.032858</td>\n",
       "      <td>-0.131625</td>\n",
       "      <td>-0.138573</td>\n",
       "      <td>-0.001052</td>\n",
       "      <td>-0.142668</td>\n",
       "      <td>-0.012029</td>\n",
       "      <td>0.119903</td>\n",
       "      <td>-0.012765</td>\n",
       "    </tr>\n",
       "    <tr>\n",
       "      <th>Propert_Owner</th>\n",
       "      <td>-0.036763</td>\n",
       "      <td>0.002202</td>\n",
       "      <td>1.000000</td>\n",
       "      <td>-0.017581</td>\n",
       "      <td>0.033818</td>\n",
       "      <td>-0.055693</td>\n",
       "      <td>-0.018282</td>\n",
       "      <td>0.001601</td>\n",
       "      <td>-0.174897</td>\n",
       "      <td>0.127537</td>\n",
       "      <td>-0.059325</td>\n",
       "      <td>-0.013706</td>\n",
       "      <td>-0.019114</td>\n",
       "    </tr>\n",
       "    <tr>\n",
       "      <th>CHILDREN</th>\n",
       "      <td>0.058262</td>\n",
       "      <td>0.057910</td>\n",
       "      <td>-0.017581</td>\n",
       "      <td>1.000000</td>\n",
       "      <td>0.079918</td>\n",
       "      <td>0.065382</td>\n",
       "      <td>-0.084324</td>\n",
       "      <td>-0.186892</td>\n",
       "      <td>0.008600</td>\n",
       "      <td>-0.316451</td>\n",
       "      <td>0.082724</td>\n",
       "      <td>0.875697</td>\n",
       "      <td>-0.029194</td>\n",
       "    </tr>\n",
       "    <tr>\n",
       "      <th>Annual_income</th>\n",
       "      <td>0.245137</td>\n",
       "      <td>0.210975</td>\n",
       "      <td>0.033818</td>\n",
       "      <td>0.079918</td>\n",
       "      <td>1.000000</td>\n",
       "      <td>-0.121349</td>\n",
       "      <td>-0.246174</td>\n",
       "      <td>-0.026581</td>\n",
       "      <td>0.019662</td>\n",
       "      <td>-0.099315</td>\n",
       "      <td>0.055428</td>\n",
       "      <td>0.063142</td>\n",
       "      <td>0.033336</td>\n",
       "    </tr>\n",
       "    <tr>\n",
       "      <th>Type_Income</th>\n",
       "      <td>0.057994</td>\n",
       "      <td>0.032858</td>\n",
       "      <td>-0.055693</td>\n",
       "      <td>0.065382</td>\n",
       "      <td>-0.121349</td>\n",
       "      <td>1.000000</td>\n",
       "      <td>0.095625</td>\n",
       "      <td>-0.028996</td>\n",
       "      <td>0.024850</td>\n",
       "      <td>-0.174562</td>\n",
       "      <td>0.188775</td>\n",
       "      <td>0.067863</td>\n",
       "      <td>-0.066187</td>\n",
       "    </tr>\n",
       "    <tr>\n",
       "      <th>EDUCATION</th>\n",
       "      <td>-0.038062</td>\n",
       "      <td>-0.131625</td>\n",
       "      <td>-0.018282</td>\n",
       "      <td>-0.084324</td>\n",
       "      <td>-0.246174</td>\n",
       "      <td>0.095625</td>\n",
       "      <td>1.000000</td>\n",
       "      <td>0.056985</td>\n",
       "      <td>-0.045389</td>\n",
       "      <td>0.188948</td>\n",
       "      <td>0.017283</td>\n",
       "      <td>-0.080301</td>\n",
       "      <td>-0.029418</td>\n",
       "    </tr>\n",
       "    <tr>\n",
       "      <th>Marital_status</th>\n",
       "      <td>-0.119800</td>\n",
       "      <td>-0.138573</td>\n",
       "      <td>0.001601</td>\n",
       "      <td>-0.186892</td>\n",
       "      <td>-0.026581</td>\n",
       "      <td>-0.028996</td>\n",
       "      <td>0.056985</td>\n",
       "      <td>1.000000</td>\n",
       "      <td>-0.008571</td>\n",
       "      <td>0.118174</td>\n",
       "      <td>-0.100916</td>\n",
       "      <td>-0.579232</td>\n",
       "      <td>0.059958</td>\n",
       "    </tr>\n",
       "    <tr>\n",
       "      <th>Housing_type</th>\n",
       "      <td>0.080975</td>\n",
       "      <td>-0.001052</td>\n",
       "      <td>-0.174897</td>\n",
       "      <td>0.008600</td>\n",
       "      <td>0.019662</td>\n",
       "      <td>0.024850</td>\n",
       "      <td>-0.045389</td>\n",
       "      <td>-0.008571</td>\n",
       "      <td>1.000000</td>\n",
       "      <td>-0.219029</td>\n",
       "      <td>-0.037892</td>\n",
       "      <td>0.005373</td>\n",
       "      <td>-0.001555</td>\n",
       "    </tr>\n",
       "    <tr>\n",
       "      <th>AGE_YEARS</th>\n",
       "      <td>-0.186855</td>\n",
       "      <td>-0.142668</td>\n",
       "      <td>0.127537</td>\n",
       "      <td>-0.316451</td>\n",
       "      <td>-0.099315</td>\n",
       "      <td>-0.174562</td>\n",
       "      <td>0.188948</td>\n",
       "      <td>0.118174</td>\n",
       "      <td>-0.219029</td>\n",
       "      <td>1.000000</td>\n",
       "      <td>-0.033363</td>\n",
       "      <td>-0.287153</td>\n",
       "      <td>0.044688</td>\n",
       "    </tr>\n",
       "    <tr>\n",
       "      <th>YEARS_EMPLOYED</th>\n",
       "      <td>-0.028795</td>\n",
       "      <td>-0.012029</td>\n",
       "      <td>-0.059325</td>\n",
       "      <td>0.082724</td>\n",
       "      <td>0.055428</td>\n",
       "      <td>0.188775</td>\n",
       "      <td>0.017283</td>\n",
       "      <td>-0.100916</td>\n",
       "      <td>-0.037892</td>\n",
       "      <td>-0.033363</td>\n",
       "      <td>1.000000</td>\n",
       "      <td>0.101618</td>\n",
       "      <td>-0.099093</td>\n",
       "    </tr>\n",
       "    <tr>\n",
       "      <th>Family_Members</th>\n",
       "      <td>0.096368</td>\n",
       "      <td>0.119903</td>\n",
       "      <td>-0.013706</td>\n",
       "      <td>0.875697</td>\n",
       "      <td>0.063142</td>\n",
       "      <td>0.067863</td>\n",
       "      <td>-0.080301</td>\n",
       "      <td>-0.579232</td>\n",
       "      <td>0.005373</td>\n",
       "      <td>-0.287153</td>\n",
       "      <td>0.101618</td>\n",
       "      <td>1.000000</td>\n",
       "      <td>-0.037814</td>\n",
       "    </tr>\n",
       "    <tr>\n",
       "      <th>label</th>\n",
       "      <td>0.047008</td>\n",
       "      <td>-0.012765</td>\n",
       "      <td>-0.019114</td>\n",
       "      <td>-0.029194</td>\n",
       "      <td>0.033336</td>\n",
       "      <td>-0.066187</td>\n",
       "      <td>-0.029418</td>\n",
       "      <td>0.059958</td>\n",
       "      <td>-0.001555</td>\n",
       "      <td>0.044688</td>\n",
       "      <td>-0.099093</td>\n",
       "      <td>-0.037814</td>\n",
       "      <td>1.000000</td>\n",
       "    </tr>\n",
       "  </tbody>\n",
       "</table>\n",
       "</div>"
      ],
      "text/plain": [
       "                  GENDER  Car_Owner  Propert_Owner  CHILDREN  Annual_income  \\\n",
       "GENDER          1.000000   0.365611      -0.036763  0.058262       0.245137   \n",
       "Car_Owner       0.365611   1.000000       0.002202  0.057910       0.210975   \n",
       "Propert_Owner  -0.036763   0.002202       1.000000 -0.017581       0.033818   \n",
       "CHILDREN        0.058262   0.057910      -0.017581  1.000000       0.079918   \n",
       "Annual_income   0.245137   0.210975       0.033818  0.079918       1.000000   \n",
       "Type_Income     0.057994   0.032858      -0.055693  0.065382      -0.121349   \n",
       "EDUCATION      -0.038062  -0.131625      -0.018282 -0.084324      -0.246174   \n",
       "Marital_status -0.119800  -0.138573       0.001601 -0.186892      -0.026581   \n",
       "Housing_type    0.080975  -0.001052      -0.174897  0.008600       0.019662   \n",
       "AGE_YEARS      -0.186855  -0.142668       0.127537 -0.316451      -0.099315   \n",
       "YEARS_EMPLOYED -0.028795  -0.012029      -0.059325  0.082724       0.055428   \n",
       "Family_Members  0.096368   0.119903      -0.013706  0.875697       0.063142   \n",
       "label           0.047008  -0.012765      -0.019114 -0.029194       0.033336   \n",
       "\n",
       "                Type_Income  EDUCATION  Marital_status  Housing_type  \\\n",
       "GENDER             0.057994  -0.038062       -0.119800      0.080975   \n",
       "Car_Owner          0.032858  -0.131625       -0.138573     -0.001052   \n",
       "Propert_Owner     -0.055693  -0.018282        0.001601     -0.174897   \n",
       "CHILDREN           0.065382  -0.084324       -0.186892      0.008600   \n",
       "Annual_income     -0.121349  -0.246174       -0.026581      0.019662   \n",
       "Type_Income        1.000000   0.095625       -0.028996      0.024850   \n",
       "EDUCATION          0.095625   1.000000        0.056985     -0.045389   \n",
       "Marital_status    -0.028996   0.056985        1.000000     -0.008571   \n",
       "Housing_type       0.024850  -0.045389       -0.008571      1.000000   \n",
       "AGE_YEARS         -0.174562   0.188948        0.118174     -0.219029   \n",
       "YEARS_EMPLOYED     0.188775   0.017283       -0.100916     -0.037892   \n",
       "Family_Members     0.067863  -0.080301       -0.579232      0.005373   \n",
       "label             -0.066187  -0.029418        0.059958     -0.001555   \n",
       "\n",
       "                AGE_YEARS  YEARS_EMPLOYED  Family_Members     label  \n",
       "GENDER          -0.186855       -0.028795        0.096368  0.047008  \n",
       "Car_Owner       -0.142668       -0.012029        0.119903 -0.012765  \n",
       "Propert_Owner    0.127537       -0.059325       -0.013706 -0.019114  \n",
       "CHILDREN        -0.316451        0.082724        0.875697 -0.029194  \n",
       "Annual_income   -0.099315        0.055428        0.063142  0.033336  \n",
       "Type_Income     -0.174562        0.188775        0.067863 -0.066187  \n",
       "EDUCATION        0.188948        0.017283       -0.080301 -0.029418  \n",
       "Marital_status   0.118174       -0.100916       -0.579232  0.059958  \n",
       "Housing_type    -0.219029       -0.037892        0.005373 -0.001555  \n",
       "AGE_YEARS        1.000000       -0.033363       -0.287153  0.044688  \n",
       "YEARS_EMPLOYED  -0.033363        1.000000        0.101618 -0.099093  \n",
       "Family_Members  -0.287153        0.101618        1.000000 -0.037814  \n",
       "label            0.044688       -0.099093       -0.037814  1.000000  "
      ]
     },
     "execution_count": 64,
     "metadata": {},
     "output_type": "execute_result"
    }
   ],
   "source": [
    "df.corr()"
   ]
  },
  {
   "cell_type": "code",
   "execution_count": 65,
   "id": "f2914736",
   "metadata": {
    "execution": {
     "iopub.execute_input": "2024-03-18T12:47:24.964675Z",
     "iopub.status.busy": "2024-03-18T12:47:24.964274Z",
     "iopub.status.idle": "2024-03-18T12:47:24.970598Z",
     "shell.execute_reply": "2024-03-18T12:47:24.969728Z"
    },
    "papermill": {
     "duration": 0.041599,
     "end_time": "2024-03-18T12:47:24.972991",
     "exception": false,
     "start_time": "2024-03-18T12:47:24.931392",
     "status": "completed"
    },
    "tags": []
   },
   "outputs": [],
   "source": [
    "features =df.drop(['label'], axis=1)\n",
    "target = df['label']"
   ]
  },
  {
   "cell_type": "code",
   "execution_count": 66,
   "id": "2f02b8aa",
   "metadata": {
    "execution": {
     "iopub.execute_input": "2024-03-18T12:47:25.037675Z",
     "iopub.status.busy": "2024-03-18T12:47:25.037292Z",
     "iopub.status.idle": "2024-03-18T12:47:25.053116Z",
     "shell.execute_reply": "2024-03-18T12:47:25.051984Z"
    },
    "papermill": {
     "duration": 0.051316,
     "end_time": "2024-03-18T12:47:25.055603",
     "exception": false,
     "start_time": "2024-03-18T12:47:25.004287",
     "status": "completed"
    },
    "tags": []
   },
   "outputs": [
    {
     "data": {
      "text/html": [
       "<div>\n",
       "<style scoped>\n",
       "    .dataframe tbody tr th:only-of-type {\n",
       "        vertical-align: middle;\n",
       "    }\n",
       "\n",
       "    .dataframe tbody tr th {\n",
       "        vertical-align: top;\n",
       "    }\n",
       "\n",
       "    .dataframe thead th {\n",
       "        text-align: right;\n",
       "    }\n",
       "</style>\n",
       "<table border=\"1\" class=\"dataframe\">\n",
       "  <thead>\n",
       "    <tr style=\"text-align: right;\">\n",
       "      <th></th>\n",
       "      <th>GENDER</th>\n",
       "      <th>Car_Owner</th>\n",
       "      <th>Propert_Owner</th>\n",
       "      <th>CHILDREN</th>\n",
       "      <th>Annual_income</th>\n",
       "      <th>Type_Income</th>\n",
       "      <th>EDUCATION</th>\n",
       "      <th>Marital_status</th>\n",
       "      <th>Housing_type</th>\n",
       "      <th>AGE_YEARS</th>\n",
       "      <th>YEARS_EMPLOYED</th>\n",
       "      <th>Family_Members</th>\n",
       "    </tr>\n",
       "  </thead>\n",
       "  <tbody>\n",
       "    <tr>\n",
       "      <th>0</th>\n",
       "      <td>1</td>\n",
       "      <td>1</td>\n",
       "      <td>1</td>\n",
       "      <td>0</td>\n",
       "      <td>180000.0</td>\n",
       "      <td>1</td>\n",
       "      <td>1</td>\n",
       "      <td>1</td>\n",
       "      <td>1</td>\n",
       "      <td>51.0</td>\n",
       "      <td>0.0</td>\n",
       "      <td>2</td>\n",
       "    </tr>\n",
       "    <tr>\n",
       "      <th>1</th>\n",
       "      <td>0</td>\n",
       "      <td>1</td>\n",
       "      <td>0</td>\n",
       "      <td>0</td>\n",
       "      <td>315000.0</td>\n",
       "      <td>0</td>\n",
       "      <td>1</td>\n",
       "      <td>1</td>\n",
       "      <td>1</td>\n",
       "      <td>37.0</td>\n",
       "      <td>2.0</td>\n",
       "      <td>2</td>\n",
       "    </tr>\n",
       "    <tr>\n",
       "      <th>2</th>\n",
       "      <td>0</td>\n",
       "      <td>1</td>\n",
       "      <td>0</td>\n",
       "      <td>0</td>\n",
       "      <td>315000.0</td>\n",
       "      <td>0</td>\n",
       "      <td>1</td>\n",
       "      <td>1</td>\n",
       "      <td>1</td>\n",
       "      <td>43.0</td>\n",
       "      <td>2.0</td>\n",
       "      <td>2</td>\n",
       "    </tr>\n",
       "    <tr>\n",
       "      <th>3</th>\n",
       "      <td>0</td>\n",
       "      <td>1</td>\n",
       "      <td>0</td>\n",
       "      <td>0</td>\n",
       "      <td>166500.0</td>\n",
       "      <td>0</td>\n",
       "      <td>1</td>\n",
       "      <td>1</td>\n",
       "      <td>1</td>\n",
       "      <td>37.0</td>\n",
       "      <td>2.0</td>\n",
       "      <td>2</td>\n",
       "    </tr>\n",
       "    <tr>\n",
       "      <th>4</th>\n",
       "      <td>0</td>\n",
       "      <td>1</td>\n",
       "      <td>0</td>\n",
       "      <td>0</td>\n",
       "      <td>315000.0</td>\n",
       "      <td>0</td>\n",
       "      <td>1</td>\n",
       "      <td>1</td>\n",
       "      <td>1</td>\n",
       "      <td>37.0</td>\n",
       "      <td>2.0</td>\n",
       "      <td>2</td>\n",
       "    </tr>\n",
       "  </tbody>\n",
       "</table>\n",
       "</div>"
      ],
      "text/plain": [
       "   GENDER  Car_Owner  Propert_Owner  CHILDREN  Annual_income  Type_Income  \\\n",
       "0       1          1              1         0       180000.0            1   \n",
       "1       0          1              0         0       315000.0            0   \n",
       "2       0          1              0         0       315000.0            0   \n",
       "3       0          1              0         0       166500.0            0   \n",
       "4       0          1              0         0       315000.0            0   \n",
       "\n",
       "   EDUCATION  Marital_status  Housing_type  AGE_YEARS  YEARS_EMPLOYED  \\\n",
       "0          1               1             1       51.0             0.0   \n",
       "1          1               1             1       37.0             2.0   \n",
       "2          1               1             1       43.0             2.0   \n",
       "3          1               1             1       37.0             2.0   \n",
       "4          1               1             1       37.0             2.0   \n",
       "\n",
       "   Family_Members  \n",
       "0               2  \n",
       "1               2  \n",
       "2               2  \n",
       "3               2  \n",
       "4               2  "
      ]
     },
     "execution_count": 66,
     "metadata": {},
     "output_type": "execute_result"
    }
   ],
   "source": [
    "features.head()"
   ]
  },
  {
   "cell_type": "code",
   "execution_count": 67,
   "id": "a5e6e855",
   "metadata": {
    "execution": {
     "iopub.execute_input": "2024-03-18T12:47:25.123590Z",
     "iopub.status.busy": "2024-03-18T12:47:25.123166Z",
     "iopub.status.idle": "2024-03-18T12:47:25.138259Z",
     "shell.execute_reply": "2024-03-18T12:47:25.137134Z"
    },
    "papermill": {
     "duration": 0.05286,
     "end_time": "2024-03-18T12:47:25.140423",
     "exception": false,
     "start_time": "2024-03-18T12:47:25.087563",
     "status": "completed"
    },
    "tags": []
   },
   "outputs": [
    {
     "data": {
      "text/html": [
       "<div>\n",
       "<style scoped>\n",
       "    .dataframe tbody tr th:only-of-type {\n",
       "        vertical-align: middle;\n",
       "    }\n",
       "\n",
       "    .dataframe tbody tr th {\n",
       "        vertical-align: top;\n",
       "    }\n",
       "\n",
       "    .dataframe thead th {\n",
       "        text-align: right;\n",
       "    }\n",
       "</style>\n",
       "<table border=\"1\" class=\"dataframe\">\n",
       "  <thead>\n",
       "    <tr style=\"text-align: right;\">\n",
       "      <th></th>\n",
       "      <th>GENDER</th>\n",
       "      <th>Car_Owner</th>\n",
       "      <th>Propert_Owner</th>\n",
       "      <th>CHILDREN</th>\n",
       "      <th>Annual_income</th>\n",
       "      <th>Type_Income</th>\n",
       "      <th>EDUCATION</th>\n",
       "      <th>Marital_status</th>\n",
       "      <th>Housing_type</th>\n",
       "      <th>AGE_YEARS</th>\n",
       "      <th>YEARS_EMPLOYED</th>\n",
       "      <th>Family_Members</th>\n",
       "    </tr>\n",
       "  </thead>\n",
       "  <tbody>\n",
       "    <tr>\n",
       "      <th>0</th>\n",
       "      <td>1</td>\n",
       "      <td>1</td>\n",
       "      <td>1</td>\n",
       "      <td>0</td>\n",
       "      <td>180000.0</td>\n",
       "      <td>1</td>\n",
       "      <td>1</td>\n",
       "      <td>1</td>\n",
       "      <td>1</td>\n",
       "      <td>51.0</td>\n",
       "      <td>0.0</td>\n",
       "      <td>2</td>\n",
       "    </tr>\n",
       "    <tr>\n",
       "      <th>1</th>\n",
       "      <td>0</td>\n",
       "      <td>1</td>\n",
       "      <td>0</td>\n",
       "      <td>0</td>\n",
       "      <td>315000.0</td>\n",
       "      <td>0</td>\n",
       "      <td>1</td>\n",
       "      <td>1</td>\n",
       "      <td>1</td>\n",
       "      <td>37.0</td>\n",
       "      <td>2.0</td>\n",
       "      <td>2</td>\n",
       "    </tr>\n",
       "    <tr>\n",
       "      <th>2</th>\n",
       "      <td>0</td>\n",
       "      <td>1</td>\n",
       "      <td>0</td>\n",
       "      <td>0</td>\n",
       "      <td>315000.0</td>\n",
       "      <td>0</td>\n",
       "      <td>1</td>\n",
       "      <td>1</td>\n",
       "      <td>1</td>\n",
       "      <td>43.0</td>\n",
       "      <td>2.0</td>\n",
       "      <td>2</td>\n",
       "    </tr>\n",
       "    <tr>\n",
       "      <th>3</th>\n",
       "      <td>0</td>\n",
       "      <td>1</td>\n",
       "      <td>0</td>\n",
       "      <td>0</td>\n",
       "      <td>166500.0</td>\n",
       "      <td>0</td>\n",
       "      <td>1</td>\n",
       "      <td>1</td>\n",
       "      <td>1</td>\n",
       "      <td>37.0</td>\n",
       "      <td>2.0</td>\n",
       "      <td>2</td>\n",
       "    </tr>\n",
       "    <tr>\n",
       "      <th>4</th>\n",
       "      <td>0</td>\n",
       "      <td>1</td>\n",
       "      <td>0</td>\n",
       "      <td>0</td>\n",
       "      <td>315000.0</td>\n",
       "      <td>0</td>\n",
       "      <td>1</td>\n",
       "      <td>1</td>\n",
       "      <td>1</td>\n",
       "      <td>37.0</td>\n",
       "      <td>2.0</td>\n",
       "      <td>2</td>\n",
       "    </tr>\n",
       "  </tbody>\n",
       "</table>\n",
       "</div>"
      ],
      "text/plain": [
       "   GENDER  Car_Owner  Propert_Owner  CHILDREN  Annual_income  Type_Income  \\\n",
       "0       1          1              1         0       180000.0            1   \n",
       "1       0          1              0         0       315000.0            0   \n",
       "2       0          1              0         0       315000.0            0   \n",
       "3       0          1              0         0       166500.0            0   \n",
       "4       0          1              0         0       315000.0            0   \n",
       "\n",
       "   EDUCATION  Marital_status  Housing_type  AGE_YEARS  YEARS_EMPLOYED  \\\n",
       "0          1               1             1       51.0             0.0   \n",
       "1          1               1             1       37.0             2.0   \n",
       "2          1               1             1       43.0             2.0   \n",
       "3          1               1             1       37.0             2.0   \n",
       "4          1               1             1       37.0             2.0   \n",
       "\n",
       "   Family_Members  \n",
       "0               2  \n",
       "1               2  \n",
       "2               2  \n",
       "3               2  \n",
       "4               2  "
      ]
     },
     "execution_count": 67,
     "metadata": {},
     "output_type": "execute_result"
    }
   ],
   "source": [
    "features.head()"
   ]
  },
  {
   "cell_type": "markdown",
   "id": "bf80b077",
   "metadata": {
    "papermill": {
     "duration": 0.031777,
     "end_time": "2024-03-18T12:47:25.203753",
     "exception": false,
     "start_time": "2024-03-18T12:47:25.171976",
     "status": "completed"
    },
    "tags": []
   },
   "source": [
    "# Machine Learning Model"
   ]
  },
  {
   "cell_type": "code",
   "execution_count": 68,
   "id": "3d1f40b4",
   "metadata": {
    "execution": {
     "iopub.execute_input": "2024-03-18T12:47:25.271083Z",
     "iopub.status.busy": "2024-03-18T12:47:25.270669Z",
     "iopub.status.idle": "2024-03-18T12:47:25.373517Z",
     "shell.execute_reply": "2024-03-18T12:47:25.372188Z"
    },
    "papermill": {
     "duration": 0.139531,
     "end_time": "2024-03-18T12:47:25.376110",
     "exception": false,
     "start_time": "2024-03-18T12:47:25.236579",
     "status": "completed"
    },
    "tags": []
   },
   "outputs": [],
   "source": [
    "from sklearn.model_selection import train_test_split\n",
    "x_train, x_test, y_train, y_test = train_test_split(features,\n",
    "                                                    target,\n",
    "                                                    test_size=0.2,\n",
    "                                                    random_state = 10)"
   ]
  },
  {
   "cell_type": "markdown",
   "id": "4c06fef0",
   "metadata": {
    "papermill": {
     "duration": 0.030917,
     "end_time": "2024-03-18T12:47:25.438231",
     "exception": false,
     "start_time": "2024-03-18T12:47:25.407314",
     "status": "completed"
    },
    "tags": []
   },
   "source": [
    "# Balancing dataset"
   ]
  },
  {
   "cell_type": "code",
   "execution_count": 69,
   "id": "68bae4a1",
   "metadata": {
    "execution": {
     "iopub.execute_input": "2024-03-18T12:47:25.503212Z",
     "iopub.status.busy": "2024-03-18T12:47:25.502793Z",
     "iopub.status.idle": "2024-03-18T12:47:25.514087Z",
     "shell.execute_reply": "2024-03-18T12:47:25.512958Z"
    },
    "papermill": {
     "duration": 0.046434,
     "end_time": "2024-03-18T12:47:25.516680",
     "exception": false,
     "start_time": "2024-03-18T12:47:25.470246",
     "status": "completed"
    },
    "tags": []
   },
   "outputs": [],
   "source": [
    "from sklearn.preprocessing import MinMaxScaler\n",
    "MMS = MinMaxScaler()\n",
    "x_train_scaled = pd.DataFrame(MMS.fit_transform(x_train), columns=x_train.columns)\n",
    "x_test_scaled = pd.DataFrame(MMS.transform(x_test), columns=x_test.columns)"
   ]
  },
  {
   "cell_type": "code",
   "execution_count": 70,
   "id": "ba7772a0",
   "metadata": {
    "execution": {
     "iopub.execute_input": "2024-03-18T12:47:25.583410Z",
     "iopub.status.busy": "2024-03-18T12:47:25.583012Z",
     "iopub.status.idle": "2024-03-18T12:47:26.081816Z",
     "shell.execute_reply": "2024-03-18T12:47:26.080507Z"
    },
    "papermill": {
     "duration": 0.535856,
     "end_time": "2024-03-18T12:47:26.084971",
     "exception": false,
     "start_time": "2024-03-18T12:47:25.549115",
     "status": "completed"
    },
    "tags": []
   },
   "outputs": [],
   "source": [
    "# adding samples to minority class using SMOTE\n",
    "from imblearn.over_sampling import SMOTE\n",
    "oversample = SMOTE()\n",
    "\n",
    "x_train_oversam, y_train_oversam = oversample.fit_resample(x_train_scaled, y_train)\n",
    "x_test_oversam, y_test_oversam = oversample.fit_resample(x_test_scaled, y_test)"
   ]
  },
  {
   "cell_type": "code",
   "execution_count": 71,
   "id": "61e6cc8b",
   "metadata": {
    "execution": {
     "iopub.execute_input": "2024-03-18T12:47:26.150349Z",
     "iopub.status.busy": "2024-03-18T12:47:26.149821Z",
     "iopub.status.idle": "2024-03-18T12:47:26.158566Z",
     "shell.execute_reply": "2024-03-18T12:47:26.157525Z"
    },
    "papermill": {
     "duration": 0.043169,
     "end_time": "2024-03-18T12:47:26.160632",
     "exception": false,
     "start_time": "2024-03-18T12:47:26.117463",
     "status": "completed"
    },
    "tags": []
   },
   "outputs": [
    {
     "data": {
      "text/plain": [
       "label\n",
       "0    88.961039\n",
       "1    11.038961\n",
       "Name: proportion, dtype: float64"
      ]
     },
     "execution_count": 71,
     "metadata": {},
     "output_type": "execute_result"
    }
   ],
   "source": [
    "# Original majority and minority class\n",
    "y_train.value_counts(normalize=True)*100"
   ]
  },
  {
   "cell_type": "code",
   "execution_count": 72,
   "id": "087ac6a1",
   "metadata": {
    "execution": {
     "iopub.execute_input": "2024-03-18T12:47:26.226128Z",
     "iopub.status.busy": "2024-03-18T12:47:26.225715Z",
     "iopub.status.idle": "2024-03-18T12:47:26.235185Z",
     "shell.execute_reply": "2024-03-18T12:47:26.234083Z"
    },
    "papermill": {
     "duration": 0.044972,
     "end_time": "2024-03-18T12:47:26.237295",
     "exception": false,
     "start_time": "2024-03-18T12:47:26.192323",
     "status": "completed"
    },
    "tags": []
   },
   "outputs": [
    {
     "data": {
      "text/plain": [
       "label\n",
       "0    50.0\n",
       "1    50.0\n",
       "Name: proportion, dtype: float64"
      ]
     },
     "execution_count": 72,
     "metadata": {},
     "output_type": "execute_result"
    }
   ],
   "source": [
    "# after using SMOTE\n",
    "y_train_oversam.value_counts(normalize=True)*100"
   ]
  },
  {
   "cell_type": "code",
   "execution_count": 73,
   "id": "64fa1513",
   "metadata": {
    "execution": {
     "iopub.execute_input": "2024-03-18T12:47:26.303876Z",
     "iopub.status.busy": "2024-03-18T12:47:26.303192Z",
     "iopub.status.idle": "2024-03-18T12:47:26.357732Z",
     "shell.execute_reply": "2024-03-18T12:47:26.356666Z"
    },
    "papermill": {
     "duration": 0.091526,
     "end_time": "2024-03-18T12:47:26.360902",
     "exception": false,
     "start_time": "2024-03-18T12:47:26.269376",
     "status": "completed"
    },
    "tags": []
   },
   "outputs": [
    {
     "name": "stdout",
     "output_type": "stream",
     "text": [
      "Logistic Model Accuracy :  62.03703703703704 %\n",
      "\n",
      "Confusion matrix :\n",
      "[[168 102]\n",
      " [103 167]]\n",
      "\n",
      "Classification report:\n",
      "              precision    recall  f1-score   support\n",
      "\n",
      "           0       0.62      0.62      0.62       270\n",
      "           1       0.62      0.62      0.62       270\n",
      "\n",
      "    accuracy                           0.62       540\n",
      "   macro avg       0.62      0.62      0.62       540\n",
      "weighted avg       0.62      0.62      0.62       540\n",
      "\n"
     ]
    }
   ],
   "source": [
    "# Logistic Regression\n",
    "\n",
    "from sklearn.linear_model import LogisticRegression\n",
    "from sklearn.metrics import classification_report, accuracy_score, confusion_matrix\n",
    "\n",
    "log_model = LogisticRegression()\n",
    "log_model.fit(x_train_oversam, y_train_oversam)\n",
    "\n",
    "print('Logistic Model Accuracy : ', log_model.score(x_test_oversam, y_test_oversam)*100, '%')\n",
    "\n",
    "prediction = log_model.predict(x_test_oversam)\n",
    "print('\\nConfusion matrix :')\n",
    "print(confusion_matrix(y_test_oversam, prediction))\n",
    "\n",
    "print('\\nClassification report:')\n",
    "print(classification_report(y_test_oversam, prediction))"
   ]
  },
  {
   "cell_type": "markdown",
   "id": "60f0f631",
   "metadata": {
    "papermill": {
     "duration": 0.047304,
     "end_time": "2024-03-18T12:47:26.461862",
     "exception": false,
     "start_time": "2024-03-18T12:47:26.414558",
     "status": "completed"
    },
    "tags": []
   },
   "source": [
    "# Decision Tree classification"
   ]
  },
  {
   "cell_type": "code",
   "execution_count": 74,
   "id": "3c8d6df3",
   "metadata": {
    "execution": {
     "iopub.execute_input": "2024-03-18T12:47:26.526427Z",
     "iopub.status.busy": "2024-03-18T12:47:26.526015Z",
     "iopub.status.idle": "2024-03-18T12:47:26.561102Z",
     "shell.execute_reply": "2024-03-18T12:47:26.560045Z"
    },
    "papermill": {
     "duration": 0.070364,
     "end_time": "2024-03-18T12:47:26.563549",
     "exception": false,
     "start_time": "2024-03-18T12:47:26.493185",
     "status": "completed"
    },
    "tags": []
   },
   "outputs": [
    {
     "name": "stdout",
     "output_type": "stream",
     "text": [
      "Decision Tree Model Accuracy :  75.55555555555556 %\n",
      "\n",
      "Confusion matrix :\n",
      "[[228  42]\n",
      " [ 90 180]]\n",
      "\n",
      "Classification report:\n",
      "              precision    recall  f1-score   support\n",
      "\n",
      "           0       0.72      0.84      0.78       270\n",
      "           1       0.81      0.67      0.73       270\n",
      "\n",
      "    accuracy                           0.76       540\n",
      "   macro avg       0.76      0.76      0.75       540\n",
      "weighted avg       0.76      0.76      0.75       540\n",
      "\n"
     ]
    }
   ],
   "source": [
    "from sklearn.tree import DecisionTreeClassifier\n",
    "\n",
    "from sklearn.tree import DecisionTreeClassifier\n",
    "\n",
    "decision_model = DecisionTreeClassifier(max_depth=12,min_samples_split=8)\n",
    "\n",
    "decision_model.fit(x_train_oversam, y_train_oversam)\n",
    "\n",
    "print('Decision Tree Model Accuracy : ', decision_model.score(x_test_oversam, y_test_oversam)*100, '%')\n",
    "\n",
    "prediction = decision_model.predict(x_test_oversam)\n",
    "print('\\nConfusion matrix :')\n",
    "print(confusion_matrix(y_test_oversam, prediction))\n",
    "\n",
    "print('\\nClassification report:')\n",
    "print(classification_report(y_test_oversam, prediction))"
   ]
  },
  {
   "cell_type": "markdown",
   "id": "aa25d2b1",
   "metadata": {
    "papermill": {
     "duration": 0.031908,
     "end_time": "2024-03-18T12:47:26.628123",
     "exception": false,
     "start_time": "2024-03-18T12:47:26.596215",
     "status": "completed"
    },
    "tags": []
   },
   "source": [
    "# Random Forest classification"
   ]
  },
  {
   "cell_type": "code",
   "execution_count": 75,
   "id": "a21b2cc7",
   "metadata": {
    "execution": {
     "iopub.execute_input": "2024-03-18T12:47:26.693599Z",
     "iopub.status.busy": "2024-03-18T12:47:26.692895Z",
     "iopub.status.idle": "2024-03-18T12:47:27.555264Z",
     "shell.execute_reply": "2024-03-18T12:47:27.553973Z"
    },
    "papermill": {
     "duration": 0.897811,
     "end_time": "2024-03-18T12:47:27.557566",
     "exception": false,
     "start_time": "2024-03-18T12:47:26.659755",
     "status": "completed"
    },
    "tags": []
   },
   "outputs": [
    {
     "name": "stdout",
     "output_type": "stream",
     "text": [
      "Random Forest Model Accuracy :  84.81481481481481 %\n",
      "\n",
      "Confusion matrix :\n",
      "[[251  19]\n",
      " [ 63 207]]\n",
      "\n",
      "Classification report:\n",
      "              precision    recall  f1-score   support\n",
      "\n",
      "           0       0.80      0.93      0.86       270\n",
      "           1       0.92      0.77      0.83       270\n",
      "\n",
      "    accuracy                           0.85       540\n",
      "   macro avg       0.86      0.85      0.85       540\n",
      "weighted avg       0.86      0.85      0.85       540\n",
      "\n"
     ]
    }
   ],
   "source": [
    "from sklearn.ensemble import RandomForestClassifier\n",
    "\n",
    "from sklearn.ensemble import RandomForestClassifier\n",
    "\n",
    "RandomForest_model = RandomForestClassifier(n_estimators=250,\n",
    "                                            max_depth=12,\n",
    "                                            min_samples_leaf=16)\n",
    "\n",
    "RandomForest_model.fit(x_train_oversam, y_train_oversam)\n",
    "\n",
    "print('Random Forest Model Accuracy : ', RandomForest_model.score(x_test_oversam, y_test_oversam)*100, '%')\n",
    "\n",
    "prediction = RandomForest_model.predict(x_test_oversam)\n",
    "print('\\nConfusion matrix :')\n",
    "print(confusion_matrix(y_test_oversam, prediction))\n",
    "\n",
    "print('\\nClassification report:')\n",
    "print(classification_report(y_test_oversam, prediction))"
   ]
  },
  {
   "cell_type": "markdown",
   "id": "7c410f62",
   "metadata": {
    "papermill": {
     "duration": 0.031868,
     "end_time": "2024-03-18T12:47:27.622390",
     "exception": false,
     "start_time": "2024-03-18T12:47:27.590522",
     "status": "completed"
    },
    "tags": []
   },
   "source": [
    "\n",
    "# Support Vector Machine classification"
   ]
  },
  {
   "cell_type": "code",
   "execution_count": 76,
   "id": "b9818b62",
   "metadata": {
    "execution": {
     "iopub.execute_input": "2024-03-18T12:47:27.687728Z",
     "iopub.status.busy": "2024-03-18T12:47:27.687114Z",
     "iopub.status.idle": "2024-03-18T12:47:27.743685Z",
     "shell.execute_reply": "2024-03-18T12:47:27.742387Z"
    },
    "papermill": {
     "duration": 0.092958,
     "end_time": "2024-03-18T12:47:27.746881",
     "exception": false,
     "start_time": "2024-03-18T12:47:27.653923",
     "status": "completed"
    },
    "tags": []
   },
   "outputs": [
    {
     "name": "stdout",
     "output_type": "stream",
     "text": [
      "Support Vector Classifier Accuracy :  87.66233766233766 %\n",
      "\n",
      "Confusion matrix :\n",
      "[[270   0]\n",
      " [ 38   0]]\n",
      "\n",
      "Classification report:\n",
      "              precision    recall  f1-score   support\n",
      "\n",
      "           0       0.88      1.00      0.93       270\n",
      "           1       0.00      0.00      0.00        38\n",
      "\n",
      "    accuracy                           0.88       308\n",
      "   macro avg       0.44      0.50      0.47       308\n",
      "weighted avg       0.77      0.88      0.82       308\n",
      "\n"
     ]
    },
    {
     "name": "stderr",
     "output_type": "stream",
     "text": [
      "/opt/conda/lib/python3.10/site-packages/sklearn/metrics/_classification.py:1344: UndefinedMetricWarning: Precision and F-score are ill-defined and being set to 0.0 in labels with no predicted samples. Use `zero_division` parameter to control this behavior.\n",
      "  _warn_prf(average, modifier, msg_start, len(result))\n",
      "/opt/conda/lib/python3.10/site-packages/sklearn/metrics/_classification.py:1344: UndefinedMetricWarning: Precision and F-score are ill-defined and being set to 0.0 in labels with no predicted samples. Use `zero_division` parameter to control this behavior.\n",
      "  _warn_prf(average, modifier, msg_start, len(result))\n",
      "/opt/conda/lib/python3.10/site-packages/sklearn/metrics/_classification.py:1344: UndefinedMetricWarning: Precision and F-score are ill-defined and being set to 0.0 in labels with no predicted samples. Use `zero_division` parameter to control this behavior.\n",
      "  _warn_prf(average, modifier, msg_start, len(result))\n"
     ]
    }
   ],
   "source": [
    "from sklearn.svm import SVC\n",
    "\n",
    "svc_model = SVC()\n",
    "\n",
    "svc_model.fit(x_train, y_train)\n",
    "\n",
    "print('Support Vector Classifier Accuracy : ', svc_model.score(x_test, y_test)*100, '%')\n",
    "\n",
    "prediction = svc_model.predict(x_test)\n",
    "print('\\nConfusion matrix :')\n",
    "print(confusion_matrix(y_test, prediction))\n",
    "\n",
    "print('\\nClassification report:')\n",
    "print(classification_report(y_test, prediction))"
   ]
  },
  {
   "cell_type": "markdown",
   "id": "cb6e288f",
   "metadata": {
    "papermill": {
     "duration": 0.035728,
     "end_time": "2024-03-18T12:47:27.815499",
     "exception": false,
     "start_time": "2024-03-18T12:47:27.779771",
     "status": "completed"
    },
    "tags": []
   },
   "source": [
    "# XGBoost classification"
   ]
  },
  {
   "cell_type": "code",
   "execution_count": 77,
   "id": "dbea907d",
   "metadata": {
    "execution": {
     "iopub.execute_input": "2024-03-18T12:47:27.882323Z",
     "iopub.status.busy": "2024-03-18T12:47:27.881938Z",
     "iopub.status.idle": "2024-03-18T12:47:28.256962Z",
     "shell.execute_reply": "2024-03-18T12:47:28.255711Z"
    },
    "papermill": {
     "duration": 0.412141,
     "end_time": "2024-03-18T12:47:28.259449",
     "exception": false,
     "start_time": "2024-03-18T12:47:27.847308",
     "status": "completed"
    },
    "tags": []
   },
   "outputs": [
    {
     "name": "stdout",
     "output_type": "stream",
     "text": [
      "XGBoost Model Accuracy :  90.92592592592592 %\n",
      "\n",
      "Confusion matrix :\n",
      "[[260  10]\n",
      " [ 39 231]]\n",
      "\n",
      "Classification report:\n",
      "              precision    recall  f1-score   support\n",
      "\n",
      "           0       0.87      0.96      0.91       270\n",
      "           1       0.96      0.86      0.90       270\n",
      "\n",
      "    accuracy                           0.91       540\n",
      "   macro avg       0.91      0.91      0.91       540\n",
      "weighted avg       0.91      0.91      0.91       540\n",
      "\n"
     ]
    }
   ],
   "source": [
    "from xgboost import XGBClassifier\n",
    "\n",
    "XGB_model = XGBClassifier()\n",
    "\n",
    "XGB_model.fit(x_train_oversam, y_train_oversam)\n",
    "\n",
    "print('XGBoost Model Accuracy : ', XGB_model.score(x_test_oversam, y_test_oversam)*100, '%')\n",
    "\n",
    "prediction = XGB_model.predict(x_test_oversam)\n",
    "print('\\nConfusion matrix :')\n",
    "print(confusion_matrix(y_test_oversam, prediction))\n",
    "\n",
    "print('\\nClassification report:')\n",
    "print(classification_report(y_test_oversam, prediction))"
   ]
  },
  {
   "cell_type": "markdown",
   "id": "c6790481",
   "metadata": {
    "papermill": {
     "duration": 0.032352,
     "end_time": "2024-03-18T12:47:28.324506",
     "exception": false,
     "start_time": "2024-03-18T12:47:28.292154",
     "status": "completed"
    },
    "tags": []
   },
   "source": [
    "# Validation"
   ]
  },
  {
   "cell_type": "markdown",
   "id": "487b2726",
   "metadata": {
    "papermill": {
     "duration": 0.032184,
     "end_time": "2024-03-18T12:47:28.388856",
     "exception": false,
     "start_time": "2024-03-18T12:47:28.356672",
     "status": "completed"
    },
    "tags": []
   },
   "source": [
    "**K-Fold Cross Validation**"
   ]
  },
  {
   "cell_type": "code",
   "execution_count": 78,
   "id": "caf2c3ca",
   "metadata": {
    "execution": {
     "iopub.execute_input": "2024-03-18T12:47:28.455611Z",
     "iopub.status.busy": "2024-03-18T12:47:28.454558Z",
     "iopub.status.idle": "2024-03-18T12:47:28.459934Z",
     "shell.execute_reply": "2024-03-18T12:47:28.459147Z"
    },
    "papermill": {
     "duration": 0.041076,
     "end_time": "2024-03-18T12:47:28.462003",
     "exception": false,
     "start_time": "2024-03-18T12:47:28.420927",
     "status": "completed"
    },
    "tags": []
   },
   "outputs": [],
   "source": [
    "from sklearn.model_selection import KFold\n",
    "from sklearn.model_selection import cross_val_score\n",
    "kfold = KFold(3)"
   ]
  },
  {
   "cell_type": "code",
   "execution_count": 79,
   "id": "9da7b9c9",
   "metadata": {
    "execution": {
     "iopub.execute_input": "2024-03-18T12:47:28.528363Z",
     "iopub.status.busy": "2024-03-18T12:47:28.527596Z",
     "iopub.status.idle": "2024-03-18T12:47:28.559399Z",
     "shell.execute_reply": "2024-03-18T12:47:28.558164Z"
    },
    "papermill": {
     "duration": 0.067528,
     "end_time": "2024-03-18T12:47:28.561544",
     "exception": false,
     "start_time": "2024-03-18T12:47:28.494016",
     "status": "completed"
    },
    "tags": []
   },
   "outputs": [
    {
     "name": "stdout",
     "output_type": "stream",
     "text": [
      "[66.14785992 85.76998051 90.44834308] \n",
      "\n",
      "80.78872783630787\n"
     ]
    }
   ],
   "source": [
    "# Decision Tree classification\n",
    "\n",
    "results=cross_val_score(decision_model,features,target,cv=kfold)\n",
    "print(results*100,'\\n')\n",
    "\n",
    "print(np.mean(results)*100)"
   ]
  },
  {
   "cell_type": "code",
   "execution_count": 80,
   "id": "4369e142",
   "metadata": {
    "execution": {
     "iopub.execute_input": "2024-03-18T12:47:28.630609Z",
     "iopub.status.busy": "2024-03-18T12:47:28.629670Z",
     "iopub.status.idle": "2024-03-18T12:47:30.198313Z",
     "shell.execute_reply": "2024-03-18T12:47:30.197075Z"
    },
    "papermill": {
     "duration": 1.606455,
     "end_time": "2024-03-18T12:47:30.200582",
     "exception": false,
     "start_time": "2024-03-18T12:47:28.594127",
     "status": "completed"
    },
    "tags": []
   },
   "outputs": [
    {
     "name": "stdout",
     "output_type": "stream",
     "text": [
      "[ 66.14785992 100.         100.        ] \n",
      "\n",
      "88.715953307393\n"
     ]
    }
   ],
   "source": [
    "# Random Forest classification\n",
    "\n",
    "results=cross_val_score(RandomForest_model,features,target,cv=kfold)\n",
    "print(results*100,'\\n')\n",
    "\n",
    "print(np.mean(results)*100)"
   ]
  },
  {
   "cell_type": "code",
   "execution_count": 81,
   "id": "97a7548a",
   "metadata": {
    "execution": {
     "iopub.execute_input": "2024-03-18T12:47:30.270150Z",
     "iopub.status.busy": "2024-03-18T12:47:30.269057Z",
     "iopub.status.idle": "2024-03-18T12:47:30.468588Z",
     "shell.execute_reply": "2024-03-18T12:47:30.467754Z"
    },
    "papermill": {
     "duration": 0.237581,
     "end_time": "2024-03-18T12:47:30.471016",
     "exception": false,
     "start_time": "2024-03-18T12:47:30.233435",
     "status": "completed"
    },
    "tags": []
   },
   "outputs": [
    {
     "name": "stdout",
     "output_type": "stream",
     "text": [
      "[66.14785992 95.5165692  96.10136452] \n",
      "\n",
      "85.92193121512528\n"
     ]
    }
   ],
   "source": [
    "# XGBoost classification\n",
    "\n",
    "results=cross_val_score(XGB_model,features,target,cv=kfold)\n",
    "print(results*100,'\\n')\n",
    "\n",
    "print(np.mean(results)*100)"
   ]
  },
  {
   "cell_type": "markdown",
   "id": "28829652",
   "metadata": {
    "papermill": {
     "duration": 0.03342,
     "end_time": "2024-03-18T12:47:30.537984",
     "exception": false,
     "start_time": "2024-03-18T12:47:30.504564",
     "status": "completed"
    },
    "tags": []
   },
   "source": [
    "# Conclusion"
   ]
  },
  {
   "cell_type": "markdown",
   "id": "13d94b85",
   "metadata": {
    "papermill": {
     "duration": 0.032669,
     "end_time": "2024-03-18T12:47:30.604367",
     "exception": false,
     "start_time": "2024-03-18T12:47:30.571698",
     "status": "completed"
    },
    "tags": []
   },
   "source": [
    "As we have seen that, XGBoost Model is giving highest accuracy of 90 %, hence we will use XGBoost Model for predicion"
   ]
  }
 ],
 "metadata": {
  "kaggle": {
   "accelerator": "none",
   "dataSources": [
    {
     "datasetId": 4621749,
     "sourceId": 7875621,
     "sourceType": "datasetVersion"
    }
   ],
   "dockerImageVersionId": 30664,
   "isGpuEnabled": false,
   "isInternetEnabled": true,
   "language": "python",
   "sourceType": "notebook"
  },
  "kernelspec": {
   "display_name": "Python 3",
   "language": "python",
   "name": "python3"
  },
  "language_info": {
   "codemirror_mode": {
    "name": "ipython",
    "version": 3
   },
   "file_extension": ".py",
   "mimetype": "text/x-python",
   "name": "python",
   "nbconvert_exporter": "python",
   "pygments_lexer": "ipython3",
   "version": "3.10.13"
  },
  "papermill": {
   "default_parameters": {},
   "duration": 18.862655,
   "end_time": "2024-03-18T12:47:31.359732",
   "environment_variables": {},
   "exception": null,
   "input_path": "__notebook__.ipynb",
   "output_path": "__notebook__.ipynb",
   "parameters": {},
   "start_time": "2024-03-18T12:47:12.497077",
   "version": "2.5.0"
  }
 },
 "nbformat": 4,
 "nbformat_minor": 5
}
